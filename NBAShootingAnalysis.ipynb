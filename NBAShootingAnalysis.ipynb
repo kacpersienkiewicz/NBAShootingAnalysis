{
 "cells": [
  {
   "cell_type": "markdown",
   "metadata": {},
   "source": [
    "This Jupyter Notebook will use data sourced from datacamp.com to analyze shots made by four players. I will be looking at the accuracy of various shots, the distribution of shots, and defensive capabilities of those four players."
   ]
  },
  {
   "cell_type": "code",
   "execution_count": 2,
   "metadata": {},
   "outputs": [],
   "source": [
    "import pandas as pd"
   ]
  },
  {
   "cell_type": "code",
   "execution_count": 3,
   "metadata": {},
   "outputs": [
    {
     "data": {
      "text/html": [
       "<div>\n",
       "<style scoped>\n",
       "    .dataframe tbody tr th:only-of-type {\n",
       "        vertical-align: middle;\n",
       "    }\n",
       "\n",
       "    .dataframe tbody tr th {\n",
       "        vertical-align: top;\n",
       "    }\n",
       "\n",
       "    .dataframe thead th {\n",
       "        text-align: right;\n",
       "    }\n",
       "</style>\n",
       "<table border=\"1\" class=\"dataframe\">\n",
       "  <thead>\n",
       "    <tr style=\"text-align: right;\">\n",
       "      <th></th>\n",
       "      <th>INDEX</th>\n",
       "      <th>SHOOTER</th>\n",
       "      <th>X</th>\n",
       "      <th>Y</th>\n",
       "      <th>RANGE</th>\n",
       "      <th>DEFENDER</th>\n",
       "      <th>SCORE</th>\n",
       "    </tr>\n",
       "  </thead>\n",
       "  <tbody>\n",
       "    <tr>\n",
       "      <th>0</th>\n",
       "      <td>0</td>\n",
       "      <td>Seth Curry</td>\n",
       "      <td>-3.808987</td>\n",
       "      <td>5.583621</td>\n",
       "      <td>(0, 4)</td>\n",
       "      <td>Chris Paul</td>\n",
       "      <td>MADE</td>\n",
       "    </tr>\n",
       "    <tr>\n",
       "      <th>1</th>\n",
       "      <td>1</td>\n",
       "      <td>Seth Curry</td>\n",
       "      <td>-0.104279</td>\n",
       "      <td>5.919138</td>\n",
       "      <td>(0, 4)</td>\n",
       "      <td>Trae Young</td>\n",
       "      <td>MADE</td>\n",
       "    </tr>\n",
       "    <tr>\n",
       "      <th>2</th>\n",
       "      <td>2</td>\n",
       "      <td>Seth Curry</td>\n",
       "      <td>-0.525864</td>\n",
       "      <td>8.912239</td>\n",
       "      <td>(0, 4)</td>\n",
       "      <td>Trae Young</td>\n",
       "      <td>MADE</td>\n",
       "    </tr>\n",
       "    <tr>\n",
       "      <th>3</th>\n",
       "      <td>3</td>\n",
       "      <td>Seth Curry</td>\n",
       "      <td>-0.790616</td>\n",
       "      <td>7.503782</td>\n",
       "      <td>(0, 4)</td>\n",
       "      <td>Chris Paul</td>\n",
       "      <td>MADE</td>\n",
       "    </tr>\n",
       "    <tr>\n",
       "      <th>4</th>\n",
       "      <td>4</td>\n",
       "      <td>Seth Curry</td>\n",
       "      <td>2.119074</td>\n",
       "      <td>5.320534</td>\n",
       "      <td>(0, 4)</td>\n",
       "      <td>Trae Young</td>\n",
       "      <td>MADE</td>\n",
       "    </tr>\n",
       "  </tbody>\n",
       "</table>\n",
       "</div>"
      ],
      "text/plain": [
       "   INDEX     SHOOTER         X         Y   RANGE    DEFENDER SCORE\n",
       "0      0  Seth Curry -3.808987  5.583621  (0, 4)  Chris Paul  MADE\n",
       "1      1  Seth Curry -0.104279  5.919138  (0, 4)  Trae Young  MADE\n",
       "2      2  Seth Curry -0.525864  8.912239  (0, 4)  Trae Young  MADE\n",
       "3      3  Seth Curry -0.790616  7.503782  (0, 4)  Chris Paul  MADE\n",
       "4      4  Seth Curry  2.119074  5.320534  (0, 4)  Trae Young  MADE"
      ]
     },
     "execution_count": 3,
     "metadata": {},
     "output_type": "execute_result"
    }
   ],
   "source": [
    "df = pd.read_csv('nba_players_shooting.csv')\n",
    "df.head()"
   ]
  },
  {
   "cell_type": "code",
   "execution_count": 4,
   "metadata": {},
   "outputs": [
    {
     "data": {
      "text/plain": [
       "INDEX         int64\n",
       "SHOOTER      object\n",
       "X           float64\n",
       "Y           float64\n",
       "RANGE        object\n",
       "DEFENDER     object\n",
       "SCORE        object\n",
       "dtype: object"
      ]
     },
     "execution_count": 4,
     "metadata": {},
     "output_type": "execute_result"
    }
   ],
   "source": [
    "df.dtypes"
   ]
  },
  {
   "cell_type": "code",
   "execution_count": 5,
   "metadata": {},
   "outputs": [
    {
     "data": {
      "text/html": [
       "<div>\n",
       "<style scoped>\n",
       "    .dataframe tbody tr th:only-of-type {\n",
       "        vertical-align: middle;\n",
       "    }\n",
       "\n",
       "    .dataframe tbody tr th {\n",
       "        vertical-align: top;\n",
       "    }\n",
       "\n",
       "    .dataframe thead th {\n",
       "        text-align: right;\n",
       "    }\n",
       "</style>\n",
       "<table border=\"1\" class=\"dataframe\">\n",
       "  <thead>\n",
       "    <tr style=\"text-align: right;\">\n",
       "      <th></th>\n",
       "      <th>INDEX</th>\n",
       "      <th>X</th>\n",
       "      <th>Y</th>\n",
       "    </tr>\n",
       "  </thead>\n",
       "  <tbody>\n",
       "    <tr>\n",
       "      <th>count</th>\n",
       "      <td>776.000000</td>\n",
       "      <td>776.000000</td>\n",
       "      <td>776.000000</td>\n",
       "    </tr>\n",
       "    <tr>\n",
       "      <th>mean</th>\n",
       "      <td>387.500000</td>\n",
       "      <td>0.492154</td>\n",
       "      <td>15.400099</td>\n",
       "    </tr>\n",
       "    <tr>\n",
       "      <th>std</th>\n",
       "      <td>224.156196</td>\n",
       "      <td>12.934870</td>\n",
       "      <td>8.009152</td>\n",
       "    </tr>\n",
       "    <tr>\n",
       "      <th>min</th>\n",
       "      <td>0.000000</td>\n",
       "      <td>-24.856870</td>\n",
       "      <td>5.008911</td>\n",
       "    </tr>\n",
       "    <tr>\n",
       "      <th>25%</th>\n",
       "      <td>193.750000</td>\n",
       "      <td>-8.227266</td>\n",
       "      <td>8.151474</td>\n",
       "    </tr>\n",
       "    <tr>\n",
       "      <th>50%</th>\n",
       "      <td>387.500000</td>\n",
       "      <td>0.318647</td>\n",
       "      <td>13.665261</td>\n",
       "    </tr>\n",
       "    <tr>\n",
       "      <th>75%</th>\n",
       "      <td>581.250000</td>\n",
       "      <td>9.782513</td>\n",
       "      <td>21.175087</td>\n",
       "    </tr>\n",
       "    <tr>\n",
       "      <th>max</th>\n",
       "      <td>775.000000</td>\n",
       "      <td>24.767551</td>\n",
       "      <td>33.853913</td>\n",
       "    </tr>\n",
       "  </tbody>\n",
       "</table>\n",
       "</div>"
      ],
      "text/plain": [
       "            INDEX           X           Y\n",
       "count  776.000000  776.000000  776.000000\n",
       "mean   387.500000    0.492154   15.400099\n",
       "std    224.156196   12.934870    8.009152\n",
       "min      0.000000  -24.856870    5.008911\n",
       "25%    193.750000   -8.227266    8.151474\n",
       "50%    387.500000    0.318647   13.665261\n",
       "75%    581.250000    9.782513   21.175087\n",
       "max    775.000000   24.767551   33.853913"
      ]
     },
     "execution_count": 5,
     "metadata": {},
     "output_type": "execute_result"
    }
   ],
   "source": [
    "df.describe()"
   ]
  },
  {
   "cell_type": "code",
   "execution_count": 6,
   "metadata": {},
   "outputs": [
    {
     "data": {
      "text/plain": [
       "array(['Seth Curry', 'Chris Paul', 'Russell Westbrook', 'Trae Young'],\n",
       "      dtype=object)"
      ]
     },
     "execution_count": 6,
     "metadata": {},
     "output_type": "execute_result"
    }
   ],
   "source": [
    "df['SHOOTER'].unique()"
   ]
  },
  {
   "cell_type": "code",
   "execution_count": 7,
   "metadata": {},
   "outputs": [
    {
     "data": {
      "text/plain": [
       "SHOOTER\n",
       "Trae Young           329\n",
       "Chris Paul           216\n",
       "Seth Curry           147\n",
       "Russell Westbrook     84\n",
       "Name: count, dtype: int64"
      ]
     },
     "execution_count": 7,
     "metadata": {},
     "output_type": "execute_result"
    }
   ],
   "source": [
    "df[\"SHOOTER\"].value_counts()"
   ]
  },
  {
   "cell_type": "code",
   "execution_count": 8,
   "metadata": {},
   "outputs": [
    {
     "data": {
      "text/plain": [
       "array(['(0, 4)', '(5, 9)', '(10, 14)', '(15, 19)', '(20, 24)', '(25, 29)'],\n",
       "      dtype=object)"
      ]
     },
     "execution_count": 8,
     "metadata": {},
     "output_type": "execute_result"
    }
   ],
   "source": [
    "df[\"RANGE\"].unique()"
   ]
  },
  {
   "cell_type": "markdown",
   "metadata": {},
   "source": [
    "There doesn't seem to be any missing values, and the Range is divided into 4 feet segments. A few things to note: the three point line starts at 24 feet away from the basket ( except at the corners where it's 22 feet away), and the basket starts at 4 feet away from the edge of the court. The basketball court is not symmetrical across the X and Y axis. For example, the paint is longer lengthwise than its width and corner 3's are close than threes from the arc. This means that some analysis using X and Y will be needed to determine things like accuracy from the corner or scoring in the paint. \n",
    "\n",
    "It looks like **X** refers to the width, i.e. corner to corner, and **Y** refers to the length of the court, i.e. from basket to basket."
   ]
  },
  {
   "cell_type": "code",
   "execution_count": 9,
   "metadata": {},
   "outputs": [
    {
     "data": {
      "text/plain": [
       "<Axes: >"
      ]
     },
     "execution_count": 9,
     "metadata": {},
     "output_type": "execute_result"
    },
    {
     "data": {
      "image/png": "[encoded data removed]",
      "text/plain": [
       "<Figure size 640x480 with 1 Axes>"
      ]
     },
     "metadata": {},
     "output_type": "display_data"
    }
   ],
   "source": [
    "df[\"RANGE\"].hist(bins=20)"
   ]
  },
  {
   "cell_type": "code",
   "execution_count": 10,
   "metadata": {},
   "outputs": [
    {
     "data": {
      "text/plain": [
       "RANGE\n",
       "(25, 29)    40.136054\n",
       "(20, 24)    20.408163\n",
       "(15, 19)    12.244898\n",
       "(0, 4)      10.884354\n",
       "(5, 9)       8.163265\n",
       "(10, 14)     8.163265\n",
       "Name: count, dtype: float64"
      ]
     },
     "execution_count": 10,
     "metadata": {},
     "output_type": "execute_result"
    }
   ],
   "source": [
    "df[df[\"SHOOTER\"] == 'Seth Curry'][\"RANGE\"].value_counts() / len(df[df[\"SHOOTER\"] == 'Seth Curry']) * 100"
   ]
  },
  {
   "cell_type": "code",
   "execution_count": 11,
   "metadata": {},
   "outputs": [
    {
     "data": {
      "text/plain": [
       "<Axes: >"
      ]
     },
     "execution_count": 11,
     "metadata": {},
     "output_type": "execute_result"
    },
    {
     "data": {
      "image/png": "[encoded data removed]",
      "text/plain": [
       "<Figure size 640x480 with 1 Axes>"
      ]
     },
     "metadata": {},
     "output_type": "display_data"
    }
   ],
   "source": [
    "df[df[\"SHOOTER\"] == 'Seth Curry'][\"RANGE\"].hist(bins=20)"
   ]
  },
  {
   "cell_type": "code",
   "execution_count": 12,
   "metadata": {},
   "outputs": [
    {
     "data": {
      "text/plain": [
       "RANGE\n",
       "(15, 19)    31.018519\n",
       "(10, 14)    28.240741\n",
       "(25, 29)    15.740741\n",
       "(5, 9)      10.185185\n",
       "(0, 4)       7.407407\n",
       "(20, 24)     7.407407\n",
       "Name: count, dtype: float64"
      ]
     },
     "execution_count": 12,
     "metadata": {},
     "output_type": "execute_result"
    }
   ],
   "source": [
    "df[df[\"SHOOTER\"] == 'Chris Paul'][\"RANGE\"].value_counts() / len(df[df[\"SHOOTER\"] == 'Chris Paul']) * 100"
   ]
  },
  {
   "cell_type": "code",
   "execution_count": 13,
   "metadata": {},
   "outputs": [
    {
     "data": {
      "text/plain": [
       "<Axes: >"
      ]
     },
     "execution_count": 13,
     "metadata": {},
     "output_type": "execute_result"
    },
    {
     "data": {
      "image/png": "[encoded data removed]",
      "text/plain": [
       "<Figure size 640x480 with 1 Axes>"
      ]
     },
     "metadata": {},
     "output_type": "display_data"
    }
   ],
   "source": [
    "df[df[\"SHOOTER\"] == 'Chris Paul'][\"RANGE\"].hist(bins=20)"
   ]
  },
  {
   "cell_type": "code",
   "execution_count": 14,
   "metadata": {},
   "outputs": [
    {
     "data": {
      "text/plain": [
       "RANGE\n",
       "(0, 4)      29.761905\n",
       "(15, 19)    27.380952\n",
       "(25, 29)    16.666667\n",
       "(5, 9)      10.714286\n",
       "(20, 24)     8.333333\n",
       "(10, 14)     7.142857\n",
       "Name: count, dtype: float64"
      ]
     },
     "execution_count": 14,
     "metadata": {},
     "output_type": "execute_result"
    }
   ],
   "source": [
    "df[df[\"SHOOTER\"] == 'Russell Westbrook'][\"RANGE\"].value_counts() / len(df[df[\"SHOOTER\"] == 'Russell Westbrook']) * 100"
   ]
  },
  {
   "cell_type": "code",
   "execution_count": 15,
   "metadata": {},
   "outputs": [
    {
     "data": {
      "text/plain": [
       "<Axes: >"
      ]
     },
     "execution_count": 15,
     "metadata": {},
     "output_type": "execute_result"
    },
    {
     "data": {
      "image/png": "[encoded data removed]",
      "text/plain": [
       "<Figure size 640x480 with 1 Axes>"
      ]
     },
     "metadata": {},
     "output_type": "display_data"
    }
   ],
   "source": [
    "df[df[\"SHOOTER\"] == 'Russell Westbrook'][\"RANGE\"].hist(bins=20)"
   ]
  },
  {
   "cell_type": "code",
   "execution_count": 16,
   "metadata": {},
   "outputs": [
    {
     "data": {
      "text/plain": [
       "RANGE\n",
       "(25, 29)    30.091185\n",
       "(0, 4)      19.148936\n",
       "(10, 14)    17.933131\n",
       "(5, 9)      16.109422\n",
       "(20, 24)     9.422492\n",
       "(15, 19)     7.294833\n",
       "Name: count, dtype: float64"
      ]
     },
     "execution_count": 16,
     "metadata": {},
     "output_type": "execute_result"
    }
   ],
   "source": [
    "df[df[\"SHOOTER\"] == 'Trae Young'][\"RANGE\"].value_counts() / len(df[df[\"SHOOTER\"] == 'Trae Young']) * 100"
   ]
  },
  {
   "cell_type": "code",
   "execution_count": 17,
   "metadata": {},
   "outputs": [
    {
     "data": {
      "text/plain": [
       "<Axes: >"
      ]
     },
     "execution_count": 17,
     "metadata": {},
     "output_type": "execute_result"
    },
    {
     "data": {
      "image/png": "[encoded data removed]",
      "text/plain": [
       "<Figure size 640x480 with 1 Axes>"
      ]
     },
     "metadata": {},
     "output_type": "display_data"
    }
   ],
   "source": [
    "df[df[\"SHOOTER\"] == 'Trae Young'][\"RANGE\"].hist(bins=20)"
   ]
  },
  {
   "cell_type": "markdown",
   "metadata": {},
   "source": [
    "Each of the four shooters present a somewhat differring style. Seth Curry specializes in long range shots, with most of his attempts being at 20 plus feet. The attempts are roughly proportional to the distance away from the basket. Chris Paul mainly shoots from midrange, in between the paint and the three point line, but doesn't take incredibly deep midrange shots. There is a spike at 25-29 feet, but there are roughly as many shots at less than 10 feet and more than 19 feet. Russell Westbrook specializes in close shots and midrange shots, with a spattering of threes. Trae Young spreads his shots out, with plenty of three pointers but plenty of close range shots and mid range shots. \n",
    "\n",
    "This collection of 4 players should provide many opportunities to compare and contrast their statistics. "
   ]
  },
  {
   "cell_type": "code",
   "execution_count": 18,
   "metadata": {},
   "outputs": [
    {
     "data": {
      "text/plain": [
       "array(['Chris Paul', 'Trae Young', 'Russell Westbrook', 'Seth Curry'],\n",
       "      dtype=object)"
      ]
     },
     "execution_count": 18,
     "metadata": {},
     "output_type": "execute_result"
    }
   ],
   "source": [
    "df[\"DEFENDER\"].unique()"
   ]
  },
  {
   "cell_type": "code",
   "execution_count": 19,
   "metadata": {},
   "outputs": [
    {
     "data": {
      "text/plain": [
       "DEFENDER\n",
       "Russell Westbrook    232\n",
       "Chris Paul           197\n",
       "Seth Curry           191\n",
       "Trae Young           156\n",
       "Name: count, dtype: int64"
      ]
     },
     "execution_count": 19,
     "metadata": {},
     "output_type": "execute_result"
    }
   ],
   "source": [
    "df[\"DEFENDER\"].value_counts()"
   ]
  },
  {
   "cell_type": "code",
   "execution_count": 20,
   "metadata": {},
   "outputs": [
    {
     "data": {
      "text/plain": [
       "array(['MADE', 'MISSED'], dtype=object)"
      ]
     },
     "execution_count": 20,
     "metadata": {},
     "output_type": "execute_result"
    }
   ],
   "source": [
    "df[\"SCORE\"].unique()"
   ]
  },
  {
   "cell_type": "code",
   "execution_count": 21,
   "metadata": {},
   "outputs": [
    {
     "data": {
      "text/plain": [
       "SCORE\n",
       "MADE      85\n",
       "MISSED    62\n",
       "Name: count, dtype: int64"
      ]
     },
     "execution_count": 21,
     "metadata": {},
     "output_type": "execute_result"
    }
   ],
   "source": [
    "df[df[\"SHOOTER\"] == \"Seth Curry\"][\"SCORE\"].value_counts()"
   ]
  },
  {
   "cell_type": "code",
   "execution_count": 22,
   "metadata": {},
   "outputs": [
    {
     "data": {
      "text/plain": [
       "SCORE\n",
       "MISSED    111\n",
       "MADE      105\n",
       "Name: count, dtype: int64"
      ]
     },
     "execution_count": 22,
     "metadata": {},
     "output_type": "execute_result"
    }
   ],
   "source": [
    "df[df[\"SHOOTER\"] == \"Chris Paul\"][\"SCORE\"].value_counts()"
   ]
  },
  {
   "cell_type": "code",
   "execution_count": 23,
   "metadata": {},
   "outputs": [
    {
     "data": {
      "text/plain": [
       "SCORE\n",
       "MISSED    56\n",
       "MADE      28\n",
       "Name: count, dtype: int64"
      ]
     },
     "execution_count": 23,
     "metadata": {},
     "output_type": "execute_result"
    }
   ],
   "source": [
    "df[df[\"SHOOTER\"] == \"Russell Westbrook\"][\"SCORE\"].value_counts()"
   ]
  },
  {
   "cell_type": "code",
   "execution_count": 24,
   "metadata": {},
   "outputs": [
    {
     "data": {
      "text/plain": [
       "SCORE\n",
       "MISSED    187\n",
       "MADE      142\n",
       "Name: count, dtype: int64"
      ]
     },
     "execution_count": 24,
     "metadata": {},
     "output_type": "execute_result"
    }
   ],
   "source": [
    "df[df[\"SHOOTER\"] == \"Trae Young\"][\"SCORE\"].value_counts()"
   ]
  },
  {
   "cell_type": "markdown",
   "metadata": {},
   "source": [
    "This ends the preliminary data analysis. Now, I'll be looking at accuracy from the corner three spot, accuracy from three, midrange and from up close. Then I will look at how well each person defended against shots.\n",
    "\n",
    "As mentioned previously, corner threes are from 22 feet above and below the basket and 14 feet across as can be seen on this diagram on the NBA's website:\n",
    "\n",
    "*https://ak-static.cms.nba.com/wp-content/uploads/sites/4/2019/02/NBA-Court-Dimensions-.png*\n",
    "\n",
    "I will be selecting the shots where X is plus/minus 22 feet, and Y is less than or equal to 14.\n",
    "\n",
    "Accuracy for 3 includes corner 3's and shots from 28 feet or further.\n",
    "\n",
    "Midrange is outside of the paint but encompassed by the 3 point line. The paint is a rectangle with dimensions: 12 by 19 feet. An easy solution will be to use the information from the shots up close and three to figure out midrange accuracy.\n",
    "\n",
    "Close range shots are those within the paint mentioned before.\n",
    "\n",
    "Later on the percentages for each shot type will be graphed to show the efficaciousness of each shooter."
   ]
  },
  {
   "cell_type": "code",
   "execution_count": 25,
   "metadata": {},
   "outputs": [
    {
     "name": "stderr",
     "output_type": "stream",
     "text": [
      "C:\\Users\\Shmar\\AppData\\Local\\Temp\\ipykernel_36348\\3393801247.py:1: UserWarning: Boolean Series key will be reindexed to match DataFrame index.\n",
      "  Corner3df = df[abs(df.X) >= 22.0][df.Y <= 14]\n"
     ]
    },
    {
     "data": {
      "text/html": [
       "<div>\n",
       "<style scoped>\n",
       "    .dataframe tbody tr th:only-of-type {\n",
       "        vertical-align: middle;\n",
       "    }\n",
       "\n",
       "    .dataframe tbody tr th {\n",
       "        vertical-align: top;\n",
       "    }\n",
       "\n",
       "    .dataframe thead th {\n",
       "        text-align: right;\n",
       "    }\n",
       "</style>\n",
       "<table border=\"1\" class=\"dataframe\">\n",
       "  <thead>\n",
       "    <tr style=\"text-align: right;\">\n",
       "      <th></th>\n",
       "      <th>INDEX</th>\n",
       "      <th>X</th>\n",
       "      <th>Y</th>\n",
       "    </tr>\n",
       "  </thead>\n",
       "  <tbody>\n",
       "    <tr>\n",
       "      <th>count</th>\n",
       "      <td>54.000000</td>\n",
       "      <td>54.000000</td>\n",
       "      <td>54.000000</td>\n",
       "    </tr>\n",
       "    <tr>\n",
       "      <th>mean</th>\n",
       "      <td>486.370370</td>\n",
       "      <td>-4.515984</td>\n",
       "      <td>9.894997</td>\n",
       "    </tr>\n",
       "    <tr>\n",
       "      <th>std</th>\n",
       "      <td>255.485058</td>\n",
       "      <td>23.637168</td>\n",
       "      <td>2.161070</td>\n",
       "    </tr>\n",
       "    <tr>\n",
       "      <th>min</th>\n",
       "      <td>70.000000</td>\n",
       "      <td>-24.856870</td>\n",
       "      <td>5.441226</td>\n",
       "    </tr>\n",
       "    <tr>\n",
       "      <th>25%</th>\n",
       "      <td>320.500000</td>\n",
       "      <td>-24.232052</td>\n",
       "      <td>8.032838</td>\n",
       "    </tr>\n",
       "    <tr>\n",
       "      <th>50%</th>\n",
       "      <td>650.500000</td>\n",
       "      <td>-22.960338</td>\n",
       "      <td>10.255225</td>\n",
       "    </tr>\n",
       "    <tr>\n",
       "      <th>75%</th>\n",
       "      <td>703.500000</td>\n",
       "      <td>23.952742</td>\n",
       "      <td>11.731072</td>\n",
       "    </tr>\n",
       "    <tr>\n",
       "      <th>max</th>\n",
       "      <td>767.000000</td>\n",
       "      <td>23.952742</td>\n",
       "      <td>13.280662</td>\n",
       "    </tr>\n",
       "  </tbody>\n",
       "</table>\n",
       "</div>"
      ],
      "text/plain": [
       "            INDEX          X          Y\n",
       "count   54.000000  54.000000  54.000000\n",
       "mean   486.370370  -4.515984   9.894997\n",
       "std    255.485058  23.637168   2.161070\n",
       "min     70.000000 -24.856870   5.441226\n",
       "25%    320.500000 -24.232052   8.032838\n",
       "50%    650.500000 -22.960338  10.255225\n",
       "75%    703.500000  23.952742  11.731072\n",
       "max    767.000000  23.952742  13.280662"
      ]
     },
     "execution_count": 25,
     "metadata": {},
     "output_type": "execute_result"
    }
   ],
   "source": [
    "Corner3df = df[abs(df.X) >= 22.0][df.Y <= 14]\n",
    "Corner3df.describe()"
   ]
  },
  {
   "cell_type": "code",
   "execution_count": 26,
   "metadata": {},
   "outputs": [
    {
     "data": {
      "text/html": [
       "<div>\n",
       "<style scoped>\n",
       "    .dataframe tbody tr th:only-of-type {\n",
       "        vertical-align: middle;\n",
       "    }\n",
       "\n",
       "    .dataframe tbody tr th {\n",
       "        vertical-align: top;\n",
       "    }\n",
       "\n",
       "    .dataframe thead th {\n",
       "        text-align: right;\n",
       "    }\n",
       "</style>\n",
       "<table border=\"1\" class=\"dataframe\">\n",
       "  <thead>\n",
       "    <tr style=\"text-align: right;\">\n",
       "      <th></th>\n",
       "      <th>INDEX</th>\n",
       "      <th>SHOOTER</th>\n",
       "      <th>X</th>\n",
       "      <th>Y</th>\n",
       "      <th>RANGE</th>\n",
       "      <th>DEFENDER</th>\n",
       "      <th>SCORE</th>\n",
       "    </tr>\n",
       "  </thead>\n",
       "  <tbody>\n",
       "    <tr>\n",
       "      <th>70</th>\n",
       "      <td>70</td>\n",
       "      <td>Seth Curry</td>\n",
       "      <td>-22.018244</td>\n",
       "      <td>12.370524</td>\n",
       "      <td>(20, 24)</td>\n",
       "      <td>Trae Young</td>\n",
       "      <td>MADE</td>\n",
       "    </tr>\n",
       "    <tr>\n",
       "      <th>91</th>\n",
       "      <td>91</td>\n",
       "      <td>Seth Curry</td>\n",
       "      <td>-24.232052</td>\n",
       "      <td>5.829153</td>\n",
       "      <td>(25, 29)</td>\n",
       "      <td>Russell Westbrook</td>\n",
       "      <td>MADE</td>\n",
       "    </tr>\n",
       "    <tr>\n",
       "      <th>97</th>\n",
       "      <td>97</td>\n",
       "      <td>Seth Curry</td>\n",
       "      <td>23.952742</td>\n",
       "      <td>10.040589</td>\n",
       "      <td>(25, 29)</td>\n",
       "      <td>Chris Paul</td>\n",
       "      <td>MADE</td>\n",
       "    </tr>\n",
       "    <tr>\n",
       "      <th>101</th>\n",
       "      <td>101</td>\n",
       "      <td>Seth Curry</td>\n",
       "      <td>23.952742</td>\n",
       "      <td>10.814010</td>\n",
       "      <td>(25, 29)</td>\n",
       "      <td>Trae Young</td>\n",
       "      <td>MADE</td>\n",
       "    </tr>\n",
       "    <tr>\n",
       "      <th>104</th>\n",
       "      <td>104</td>\n",
       "      <td>Seth Curry</td>\n",
       "      <td>23.952742</td>\n",
       "      <td>11.105474</td>\n",
       "      <td>(25, 29)</td>\n",
       "      <td>Trae Young</td>\n",
       "      <td>MADE</td>\n",
       "    </tr>\n",
       "  </tbody>\n",
       "</table>\n",
       "</div>"
      ],
      "text/plain": [
       "     INDEX     SHOOTER          X          Y     RANGE           DEFENDER  \\\n",
       "70      70  Seth Curry -22.018244  12.370524  (20, 24)         Trae Young   \n",
       "91      91  Seth Curry -24.232052   5.829153  (25, 29)  Russell Westbrook   \n",
       "97      97  Seth Curry  23.952742  10.040589  (25, 29)         Chris Paul   \n",
       "101    101  Seth Curry  23.952742  10.814010  (25, 29)         Trae Young   \n",
       "104    104  Seth Curry  23.952742  11.105474  (25, 29)         Trae Young   \n",
       "\n",
       "    SCORE  \n",
       "70   MADE  \n",
       "91   MADE  \n",
       "97   MADE  \n",
       "101  MADE  \n",
       "104  MADE  "
      ]
     },
     "execution_count": 26,
     "metadata": {},
     "output_type": "execute_result"
    }
   ],
   "source": [
    "Corner3df.head()"
   ]
  },
  {
   "cell_type": "code",
   "execution_count": 27,
   "metadata": {},
   "outputs": [
    {
     "data": {
      "text/plain": [
       "SCORE\n",
       "MISSED    28\n",
       "MADE      26\n",
       "Name: count, dtype: int64"
      ]
     },
     "execution_count": 27,
     "metadata": {},
     "output_type": "execute_result"
    }
   ],
   "source": [
    "Corner3df['SCORE'].value_counts()"
   ]
  },
  {
   "cell_type": "code",
   "execution_count": 28,
   "metadata": {},
   "outputs": [
    {
     "name": "stdout",
     "output_type": "stream",
     "text": [
      "13\n"
     ]
    },
    {
     "data": {
      "text/plain": [
       "76.92307692307693"
      ]
     },
     "execution_count": 28,
     "metadata": {},
     "output_type": "execute_result"
    }
   ],
   "source": [
    "SCCorner3 = Corner3df[Corner3df[\"SHOOTER\"] == 'Seth Curry']\n",
    "\n",
    "SCCorner3percent = len(SCCorner3[SCCorner3[\"SCORE\"] == \"MADE\"]) / len(SCCorner3[\"SCORE\"]) * 100\n",
    "\n",
    "print(len(SCCorner3[\"SCORE\"]))\n",
    "SCCorner3percent"
   ]
  },
  {
   "cell_type": "code",
   "execution_count": 29,
   "metadata": {},
   "outputs": [
    {
     "name": "stdout",
     "output_type": "stream",
     "text": [
      "8\n"
     ]
    },
    {
     "data": {
      "text/plain": [
       "25.0"
      ]
     },
     "execution_count": 29,
     "metadata": {},
     "output_type": "execute_result"
    }
   ],
   "source": [
    "CPCorner3 = Corner3df[Corner3df[\"SHOOTER\"] == 'Chris Paul']\n",
    "\n",
    "CPCorner3percent = len(CPCorner3[CPCorner3[\"SCORE\"] == \"MADE\"]) / len(CPCorner3[\"SCORE\"]) * 100\n",
    "\n",
    "print(len(CPCorner3[\"SCORE\"]))\n",
    "CPCorner3percent"
   ]
  },
  {
   "cell_type": "code",
   "execution_count": 30,
   "metadata": {},
   "outputs": [
    {
     "name": "stdout",
     "output_type": "stream",
     "text": [
      "4\n"
     ]
    },
    {
     "data": {
      "text/plain": [
       "25.0"
      ]
     },
     "execution_count": 30,
     "metadata": {},
     "output_type": "execute_result"
    }
   ],
   "source": [
    "RWCorner3 = Corner3df[Corner3df[\"SHOOTER\"] == 'Russell Westbrook']\n",
    "\n",
    "RWCorner3percent = len(RWCorner3[RWCorner3[\"SCORE\"] == \"MADE\"]) / len(RWCorner3[\"SCORE\"]) * 100\n",
    "\n",
    "print(len(RWCorner3[\"SCORE\"]))\n",
    "RWCorner3percent"
   ]
  },
  {
   "cell_type": "code",
   "execution_count": 31,
   "metadata": {},
   "outputs": [
    {
     "name": "stdout",
     "output_type": "stream",
     "text": [
      "29\n"
     ]
    },
    {
     "data": {
      "text/plain": [
       "44.827586206896555"
      ]
     },
     "execution_count": 31,
     "metadata": {},
     "output_type": "execute_result"
    }
   ],
   "source": [
    "TYCorner3 = Corner3df[Corner3df[\"SHOOTER\"] == 'Trae Young']\n",
    "\n",
    "TYCorner3percent = len(TYCorner3[TYCorner3[\"SCORE\"] == \"MADE\"]) / len(TYCorner3[\"SCORE\"]) * 100\n",
    "\n",
    "print(len(TYCorner3[\"SCORE\"]))\n",
    "TYCorner3percent"
   ]
  },
  {
   "cell_type": "markdown",
   "metadata": {},
   "source": [
    "Accounting for how many total shots they took, we can see that that Chris Paul and Russell Westbrook tend to not take Corner 3's and they tend to miss them. Trae Young and Seth Curry take quite a few threes from the corner and make them well. Anything at 40% or more from three is seen as good. I woukd expect Seth Curry's percentage to go down as he takes shots since 77% is sunsustainable for volume shooters. \n",
    "\n",
    "Next I will look at 3's not from the corner and 3's in general. The threes in general will be created by combining data from Corner 3's and from the arc.\n",
    "\n",
    "There will need to be some experimenting with how to figure out which shots were from behind the arc and not a midrange or corner 3. It's possible that using range would work, but I may have to use the distance formula to find if they are behind the arc, i.e. more thna 24 feet away from the origin. This may also count certain corner 3's. As can be seem from the *describe* method being used, a shot can be around 24 feet away from the center and if they are on the edge of the corner 3 range then they would be definitely over 24 feet away. This means there needs to be a condition to exclude any shots that could be corner 3's. \n",
    "\n",
    "This means we will use the condition such that Y > 14."
   ]
  },
  {
   "cell_type": "code",
   "execution_count": 32,
   "metadata": {},
   "outputs": [
    {
     "data": {
      "text/html": [
       "<div>\n",
       "<style scoped>\n",
       "    .dataframe tbody tr th:only-of-type {\n",
       "        vertical-align: middle;\n",
       "    }\n",
       "\n",
       "    .dataframe tbody tr th {\n",
       "        vertical-align: top;\n",
       "    }\n",
       "\n",
       "    .dataframe thead th {\n",
       "        text-align: right;\n",
       "    }\n",
       "</style>\n",
       "<table border=\"1\" class=\"dataframe\">\n",
       "  <thead>\n",
       "    <tr style=\"text-align: right;\">\n",
       "      <th></th>\n",
       "      <th>INDEX</th>\n",
       "      <th>X</th>\n",
       "      <th>Y</th>\n",
       "    </tr>\n",
       "  </thead>\n",
       "  <tbody>\n",
       "    <tr>\n",
       "      <th>count</th>\n",
       "      <td>206.000000</td>\n",
       "      <td>206.000000</td>\n",
       "      <td>206.000000</td>\n",
       "    </tr>\n",
       "    <tr>\n",
       "      <th>mean</th>\n",
       "      <td>469.305825</td>\n",
       "      <td>1.313896</td>\n",
       "      <td>22.440881</td>\n",
       "    </tr>\n",
       "    <tr>\n",
       "      <th>std</th>\n",
       "      <td>265.783588</td>\n",
       "      <td>18.801441</td>\n",
       "      <td>8.332400</td>\n",
       "    </tr>\n",
       "    <tr>\n",
       "      <th>min</th>\n",
       "      <td>88.000000</td>\n",
       "      <td>-24.856870</td>\n",
       "      <td>5.441226</td>\n",
       "    </tr>\n",
       "    <tr>\n",
       "      <th>25%</th>\n",
       "      <td>139.250000</td>\n",
       "      <td>-17.111975</td>\n",
       "      <td>15.854462</td>\n",
       "    </tr>\n",
       "    <tr>\n",
       "      <th>50%</th>\n",
       "      <td>442.500000</td>\n",
       "      <td>1.714225</td>\n",
       "      <td>24.114010</td>\n",
       "    </tr>\n",
       "    <tr>\n",
       "      <th>75%</th>\n",
       "      <td>723.750000</td>\n",
       "      <td>21.475274</td>\n",
       "      <td>30.330252</td>\n",
       "    </tr>\n",
       "    <tr>\n",
       "      <th>max</th>\n",
       "      <td>775.000000</td>\n",
       "      <td>24.767551</td>\n",
       "      <td>33.853913</td>\n",
       "    </tr>\n",
       "  </tbody>\n",
       "</table>\n",
       "</div>"
      ],
      "text/plain": [
       "            INDEX           X           Y\n",
       "count  206.000000  206.000000  206.000000\n",
       "mean   469.305825    1.313896   22.440881\n",
       "std    265.783588   18.801441    8.332400\n",
       "min     88.000000  -24.856870    5.441226\n",
       "25%    139.250000  -17.111975   15.854462\n",
       "50%    442.500000    1.714225   24.114010\n",
       "75%    723.750000   21.475274   30.330252\n",
       "max    775.000000   24.767551   33.853913"
      ]
     },
     "execution_count": 32,
     "metadata": {},
     "output_type": "execute_result"
    }
   ],
   "source": [
    "df[df[\"RANGE\"] == \"(25, 29)\"].describe()"
   ]
  },
  {
   "cell_type": "code",
   "execution_count": 33,
   "metadata": {},
   "outputs": [
    {
     "data": {
      "text/html": [
       "<div>\n",
       "<style scoped>\n",
       "    .dataframe tbody tr th:only-of-type {\n",
       "        vertical-align: middle;\n",
       "    }\n",
       "\n",
       "    .dataframe tbody tr th {\n",
       "        vertical-align: top;\n",
       "    }\n",
       "\n",
       "    .dataframe thead th {\n",
       "        text-align: right;\n",
       "    }\n",
       "</style>\n",
       "<table border=\"1\" class=\"dataframe\">\n",
       "  <thead>\n",
       "    <tr style=\"text-align: right;\">\n",
       "      <th></th>\n",
       "      <th>INDEX</th>\n",
       "      <th>X</th>\n",
       "      <th>Y</th>\n",
       "    </tr>\n",
       "  </thead>\n",
       "  <tbody>\n",
       "    <tr>\n",
       "      <th>count</th>\n",
       "      <td>84.000000</td>\n",
       "      <td>84.000000</td>\n",
       "      <td>84.000000</td>\n",
       "    </tr>\n",
       "    <tr>\n",
       "      <th>mean</th>\n",
       "      <td>366.630952</td>\n",
       "      <td>0.363457</td>\n",
       "      <td>19.407309</td>\n",
       "    </tr>\n",
       "    <tr>\n",
       "      <th>std</th>\n",
       "      <td>253.838284</td>\n",
       "      <td>16.365375</td>\n",
       "      <td>6.594484</td>\n",
       "    </tr>\n",
       "    <tr>\n",
       "      <th>min</th>\n",
       "      <td>58.000000</td>\n",
       "      <td>-23.741319</td>\n",
       "      <td>6.396797</td>\n",
       "    </tr>\n",
       "    <tr>\n",
       "      <th>25%</th>\n",
       "      <td>78.750000</td>\n",
       "      <td>-16.849759</td>\n",
       "      <td>13.640112</td>\n",
       "    </tr>\n",
       "    <tr>\n",
       "      <th>50%</th>\n",
       "      <td>324.500000</td>\n",
       "      <td>1.801137</td>\n",
       "      <td>20.957780</td>\n",
       "    </tr>\n",
       "    <tr>\n",
       "      <th>75%</th>\n",
       "      <td>655.250000</td>\n",
       "      <td>16.421417</td>\n",
       "      <td>24.501316</td>\n",
       "    </tr>\n",
       "    <tr>\n",
       "      <th>max</th>\n",
       "      <td>676.000000</td>\n",
       "      <td>23.634205</td>\n",
       "      <td>28.730485</td>\n",
       "    </tr>\n",
       "  </tbody>\n",
       "</table>\n",
       "</div>"
      ],
      "text/plain": [
       "            INDEX          X          Y\n",
       "count   84.000000  84.000000  84.000000\n",
       "mean   366.630952   0.363457  19.407309\n",
       "std    253.838284  16.365375   6.594484\n",
       "min     58.000000 -23.741319   6.396797\n",
       "25%     78.750000 -16.849759  13.640112\n",
       "50%    324.500000   1.801137  20.957780\n",
       "75%    655.250000  16.421417  24.501316\n",
       "max    676.000000  23.634205  28.730485"
      ]
     },
     "execution_count": 33,
     "metadata": {},
     "output_type": "execute_result"
    }
   ],
   "source": [
    "df[df[\"RANGE\"] == \"(20, 24)\"].describe()"
   ]
  },
  {
   "cell_type": "code",
   "execution_count": 42,
   "metadata": {},
   "outputs": [],
   "source": [
    "import math\n",
    "import numpy as np"
   ]
  },
  {
   "cell_type": "code",
   "execution_count": 44,
   "metadata": {},
   "outputs": [
    {
     "data": {
      "text/plain": [
       "count    776.000000\n",
       "mean      19.876875\n",
       "std        8.577239\n",
       "min        5.020788\n",
       "25%       12.587478\n",
       "50%       19.983144\n",
       "75%       27.278761\n",
       "max       33.915899\n",
       "Name: DISTANCE, dtype: float64"
      ]
     },
     "execution_count": 44,
     "metadata": {},
     "output_type": "execute_result"
    }
   ],
   "source": [
    "df[\"DISTANCE\"] = np.sqrt(pow(df['X'],2) + pow(df['Y'],2))\n",
    "df[\"DISTANCE\"].describe()"
   ]
  },
  {
   "cell_type": "code",
   "execution_count": 55,
   "metadata": {},
   "outputs": [
    {
     "name": "stderr",
     "output_type": "stream",
     "text": [
      "C:\\Users\\Shmar\\AppData\\Local\\Temp\\ipykernel_36348\\58249574.py:1: UserWarning: Boolean Series key will be reindexed to match DataFrame index.\n",
      "  Arc3df = df[df[\"DISTANCE\"] >= 24][df.Y > 14]\n"
     ]
    },
    {
     "data": {
      "text/html": [
       "<div>\n",
       "<style scoped>\n",
       "    .dataframe tbody tr th:only-of-type {\n",
       "        vertical-align: middle;\n",
       "    }\n",
       "\n",
       "    .dataframe tbody tr th {\n",
       "        vertical-align: top;\n",
       "    }\n",
       "\n",
       "    .dataframe thead th {\n",
       "        text-align: right;\n",
       "    }\n",
       "</style>\n",
       "<table border=\"1\" class=\"dataframe\">\n",
       "  <thead>\n",
       "    <tr style=\"text-align: right;\">\n",
       "      <th></th>\n",
       "      <th>INDEX</th>\n",
       "      <th>X</th>\n",
       "      <th>Y</th>\n",
       "      <th>DISTANCE</th>\n",
       "    </tr>\n",
       "  </thead>\n",
       "  <tbody>\n",
       "    <tr>\n",
       "      <th>count</th>\n",
       "      <td>222.000000</td>\n",
       "      <td>222.000000</td>\n",
       "      <td>222.000000</td>\n",
       "      <td>222.000000</td>\n",
       "    </tr>\n",
       "    <tr>\n",
       "      <th>mean</th>\n",
       "      <td>435.666667</td>\n",
       "      <td>2.840839</td>\n",
       "      <td>24.980420</td>\n",
       "      <td>30.223226</td>\n",
       "    </tr>\n",
       "    <tr>\n",
       "      <th>std</th>\n",
       "      <td>264.807292</td>\n",
       "      <td>16.041068</td>\n",
       "      <td>5.588973</td>\n",
       "      <td>2.434702</td>\n",
       "    </tr>\n",
       "    <tr>\n",
       "      <th>min</th>\n",
       "      <td>60.000000</td>\n",
       "      <td>-24.677397</td>\n",
       "      <td>14.053580</td>\n",
       "      <td>24.382360</td>\n",
       "    </tr>\n",
       "    <tr>\n",
       "      <th>25%</th>\n",
       "      <td>133.250000</td>\n",
       "      <td>-11.468424</td>\n",
       "      <td>20.472306</td>\n",
       "      <td>28.190865</td>\n",
       "    </tr>\n",
       "    <tr>\n",
       "      <th>50%</th>\n",
       "      <td>426.500000</td>\n",
       "      <td>3.487331</td>\n",
       "      <td>25.625726</td>\n",
       "      <td>30.789012</td>\n",
       "    </tr>\n",
       "    <tr>\n",
       "      <th>75%</th>\n",
       "      <td>706.500000</td>\n",
       "      <td>17.188708</td>\n",
       "      <td>29.994794</td>\n",
       "      <td>32.355804</td>\n",
       "    </tr>\n",
       "    <tr>\n",
       "      <th>max</th>\n",
       "      <td>775.000000</td>\n",
       "      <td>24.767551</td>\n",
       "      <td>33.853913</td>\n",
       "      <td>33.915899</td>\n",
       "    </tr>\n",
       "  </tbody>\n",
       "</table>\n",
       "</div>"
      ],
      "text/plain": [
       "            INDEX           X           Y    DISTANCE\n",
       "count  222.000000  222.000000  222.000000  222.000000\n",
       "mean   435.666667    2.840839   24.980420   30.223226\n",
       "std    264.807292   16.041068    5.588973    2.434702\n",
       "min     60.000000  -24.677397   14.053580   24.382360\n",
       "25%    133.250000  -11.468424   20.472306   28.190865\n",
       "50%    426.500000    3.487331   25.625726   30.789012\n",
       "75%    706.500000   17.188708   29.994794   32.355804\n",
       "max    775.000000   24.767551   33.853913   33.915899"
      ]
     },
     "execution_count": 55,
     "metadata": {},
     "output_type": "execute_result"
    }
   ],
   "source": [
    "Arc3df = df[df[\"DISTANCE\"] >= 24][df.Y > 14]\n",
    "Arc3df.describe()"
   ]
  },
  {
   "cell_type": "code",
   "execution_count": 56,
   "metadata": {},
   "outputs": [
    {
     "data": {
      "text/plain": [
       "SCORE\n",
       "MISSED    139\n",
       "MADE       83\n",
       "Name: count, dtype: int64"
      ]
     },
     "execution_count": 56,
     "metadata": {},
     "output_type": "execute_result"
    }
   ],
   "source": [
    "Arc3df['SCORE'].value_counts()"
   ]
  },
  {
   "cell_type": "code",
   "execution_count": 57,
   "metadata": {},
   "outputs": [
    {
     "name": "stdout",
     "output_type": "stream",
     "text": [
      "68\n"
     ]
    },
    {
     "data": {
      "text/plain": [
       "47.05882352941176"
      ]
     },
     "execution_count": 57,
     "metadata": {},
     "output_type": "execute_result"
    }
   ],
   "source": [
    "SCArc3 = Arc3df[Arc3df[\"SHOOTER\"] == 'Seth Curry']\n",
    "\n",
    "SCArc3percent = len(SCArc3[SCArc3[\"SCORE\"] == \"MADE\"]) / len(SCArc3[\"SCORE\"]) * 100\n",
    "\n",
    "print(len(SCArc3[\"SCORE\"]))\n",
    "SCArc3percent"
   ]
  },
  {
   "cell_type": "code",
   "execution_count": 58,
   "metadata": {},
   "outputs": [
    {
     "name": "stdout",
     "output_type": "stream",
     "text": [
      "42\n"
     ]
    },
    {
     "data": {
      "text/plain": [
       "47.61904761904761"
      ]
     },
     "execution_count": 58,
     "metadata": {},
     "output_type": "execute_result"
    }
   ],
   "source": [
    "CPArc3 = Arc3df[Arc3df[\"SHOOTER\"] == 'Chris Paul']\n",
    "\n",
    "CPArc3percent = len(CPArc3[CPArc3[\"SCORE\"] == \"MADE\"]) / len(CPArc3[\"SCORE\"]) * 100\n",
    "\n",
    "print(len(CPArc3[\"SCORE\"]))\n",
    "CPArc3percent"
   ]
  },
  {
   "cell_type": "code",
   "execution_count": 59,
   "metadata": {},
   "outputs": [
    {
     "name": "stdout",
     "output_type": "stream",
     "text": [
      "17\n"
     ]
    },
    {
     "data": {
      "text/plain": [
       "23.52941176470588"
      ]
     },
     "execution_count": 59,
     "metadata": {},
     "output_type": "execute_result"
    }
   ],
   "source": [
    "RWArc3 = Arc3df[Arc3df[\"SHOOTER\"] == 'Russell Westbrook']\n",
    "\n",
    "RWArc3percent = len(RWArc3[RWArc3[\"SCORE\"] == \"MADE\"]) / len(RWArc3[\"SCORE\"]) * 100\n",
    "\n",
    "print(len(RWArc3[\"SCORE\"]))\n",
    "RWArc3percent"
   ]
  },
  {
   "cell_type": "code",
   "execution_count": 60,
   "metadata": {},
   "outputs": [
    {
     "name": "stdout",
     "output_type": "stream",
     "text": [
      "95\n"
     ]
    },
    {
     "data": {
      "text/plain": [
       "28.421052631578945"
      ]
     },
     "execution_count": 60,
     "metadata": {},
     "output_type": "execute_result"
    }
   ],
   "source": [
    "TYArc3 = Arc3df[Arc3df[\"SHOOTER\"] == 'Trae Young']\n",
    "\n",
    "TYArc3percent = len(TYArc3[TYArc3[\"SCORE\"] == \"MADE\"]) / len(TYArc3[\"SCORE\"]) * 100\n",
    "\n",
    "print(len(TYArc3[\"SCORE\"]))\n",
    "TYArc3percent"
   ]
  },
  {
   "cell_type": "markdown",
   "metadata": {},
   "source": []
  }
 ],
 "metadata": {
  "kernelspec": {
   "display_name": "Python 3",
   "language": "python",
   "name": "python3"
  },
  "language_info": {
   "codemirror_mode": {
    "name": "ipython",
    "version": 3
   },
   "file_extension": ".py",
   "mimetype": "text/x-python",
   "name": "python",
   "nbconvert_exporter": "python",
   "pygments_lexer": "ipython3",
   "version": "3.12.1"
  }
 },
 "nbformat": 4,
 "nbformat_minor": 2
}
