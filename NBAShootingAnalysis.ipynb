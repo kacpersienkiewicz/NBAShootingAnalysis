{
 "cells": [
  {
   "cell_type": "markdown",
   "metadata": {},
   "source": []
  },
  {
   "cell_type": "code",
   "execution_count": 1,
   "metadata": {},
   "outputs": [],
   "source": [
    "import pandas as pd"
   ]
  },
  {
   "cell_type": "code",
   "execution_count": 10,
   "metadata": {},
   "outputs": [
    {
     "data": {
      "text/html": [
       "<div>\n",
       "<style scoped>\n",
       "    .dataframe tbody tr th:only-of-type {\n",
       "        vertical-align: middle;\n",
       "    }\n",
       "\n",
       "    .dataframe tbody tr th {\n",
       "        vertical-align: top;\n",
       "    }\n",
       "\n",
       "    .dataframe thead th {\n",
       "        text-align: right;\n",
       "    }\n",
       "</style>\n",
       "<table border=\"1\" class=\"dataframe\">\n",
       "  <thead>\n",
       "    <tr style=\"text-align: right;\">\n",
       "      <th></th>\n",
       "      <th>INDEX</th>\n",
       "      <th>SHOOTER</th>\n",
       "      <th>X</th>\n",
       "      <th>Y</th>\n",
       "      <th>RANGE</th>\n",
       "      <th>DEFENDER</th>\n",
       "      <th>SCORE</th>\n",
       "    </tr>\n",
       "  </thead>\n",
       "  <tbody>\n",
       "    <tr>\n",
       "      <th>0</th>\n",
       "      <td>0</td>\n",
       "      <td>Seth Curry</td>\n",
       "      <td>-3.808987</td>\n",
       "      <td>5.583621</td>\n",
       "      <td>(0, 4)</td>\n",
       "      <td>Chris Paul</td>\n",
       "      <td>MADE</td>\n",
       "    </tr>\n",
       "    <tr>\n",
       "      <th>1</th>\n",
       "      <td>1</td>\n",
       "      <td>Seth Curry</td>\n",
       "      <td>-0.104279</td>\n",
       "      <td>5.919138</td>\n",
       "      <td>(0, 4)</td>\n",
       "      <td>Trae Young</td>\n",
       "      <td>MADE</td>\n",
       "    </tr>\n",
       "    <tr>\n",
       "      <th>2</th>\n",
       "      <td>2</td>\n",
       "      <td>Seth Curry</td>\n",
       "      <td>-0.525864</td>\n",
       "      <td>8.912239</td>\n",
       "      <td>(0, 4)</td>\n",
       "      <td>Trae Young</td>\n",
       "      <td>MADE</td>\n",
       "    </tr>\n",
       "    <tr>\n",
       "      <th>3</th>\n",
       "      <td>3</td>\n",
       "      <td>Seth Curry</td>\n",
       "      <td>-0.790616</td>\n",
       "      <td>7.503782</td>\n",
       "      <td>(0, 4)</td>\n",
       "      <td>Chris Paul</td>\n",
       "      <td>MADE</td>\n",
       "    </tr>\n",
       "    <tr>\n",
       "      <th>4</th>\n",
       "      <td>4</td>\n",
       "      <td>Seth Curry</td>\n",
       "      <td>2.119074</td>\n",
       "      <td>5.320534</td>\n",
       "      <td>(0, 4)</td>\n",
       "      <td>Trae Young</td>\n",
       "      <td>MADE</td>\n",
       "    </tr>\n",
       "  </tbody>\n",
       "</table>\n",
       "</div>"
      ],
      "text/plain": [
       "   INDEX     SHOOTER         X         Y   RANGE    DEFENDER SCORE\n",
       "0      0  Seth Curry -3.808987  5.583621  (0, 4)  Chris Paul  MADE\n",
       "1      1  Seth Curry -0.104279  5.919138  (0, 4)  Trae Young  MADE\n",
       "2      2  Seth Curry -0.525864  8.912239  (0, 4)  Trae Young  MADE\n",
       "3      3  Seth Curry -0.790616  7.503782  (0, 4)  Chris Paul  MADE\n",
       "4      4  Seth Curry  2.119074  5.320534  (0, 4)  Trae Young  MADE"
      ]
     },
     "execution_count": 10,
     "metadata": {},
     "output_type": "execute_result"
    }
   ],
   "source": [
    "df = pd.read_csv('nba_players_shooting.csv')\n",
    "df.head()"
   ]
  },
  {
   "cell_type": "code",
   "execution_count": 22,
   "metadata": {},
   "outputs": [
    {
     "data": {
      "text/html": [
       "<div>\n",
       "<style scoped>\n",
       "    .dataframe tbody tr th:only-of-type {\n",
       "        vertical-align: middle;\n",
       "    }\n",
       "\n",
       "    .dataframe tbody tr th {\n",
       "        vertical-align: top;\n",
       "    }\n",
       "\n",
       "    .dataframe thead th {\n",
       "        text-align: right;\n",
       "    }\n",
       "</style>\n",
       "<table border=\"1\" class=\"dataframe\">\n",
       "  <thead>\n",
       "    <tr style=\"text-align: right;\">\n",
       "      <th></th>\n",
       "      <th>INDEX</th>\n",
       "      <th>X</th>\n",
       "      <th>Y</th>\n",
       "    </tr>\n",
       "  </thead>\n",
       "  <tbody>\n",
       "    <tr>\n",
       "      <th>count</th>\n",
       "      <td>776.000000</td>\n",
       "      <td>776.000000</td>\n",
       "      <td>776.000000</td>\n",
       "    </tr>\n",
       "    <tr>\n",
       "      <th>mean</th>\n",
       "      <td>387.500000</td>\n",
       "      <td>0.492154</td>\n",
       "      <td>15.400099</td>\n",
       "    </tr>\n",
       "    <tr>\n",
       "      <th>std</th>\n",
       "      <td>224.156196</td>\n",
       "      <td>12.934870</td>\n",
       "      <td>8.009152</td>\n",
       "    </tr>\n",
       "    <tr>\n",
       "      <th>min</th>\n",
       "      <td>0.000000</td>\n",
       "      <td>-24.856870</td>\n",
       "      <td>5.008911</td>\n",
       "    </tr>\n",
       "    <tr>\n",
       "      <th>25%</th>\n",
       "      <td>193.750000</td>\n",
       "      <td>-8.227266</td>\n",
       "      <td>8.151474</td>\n",
       "    </tr>\n",
       "    <tr>\n",
       "      <th>50%</th>\n",
       "      <td>387.500000</td>\n",
       "      <td>0.318647</td>\n",
       "      <td>13.665261</td>\n",
       "    </tr>\n",
       "    <tr>\n",
       "      <th>75%</th>\n",
       "      <td>581.250000</td>\n",
       "      <td>9.782513</td>\n",
       "      <td>21.175087</td>\n",
       "    </tr>\n",
       "    <tr>\n",
       "      <th>max</th>\n",
       "      <td>775.000000</td>\n",
       "      <td>24.767551</td>\n",
       "      <td>33.853913</td>\n",
       "    </tr>\n",
       "  </tbody>\n",
       "</table>\n",
       "</div>"
      ],
      "text/plain": [
       "            INDEX           X           Y\n",
       "count  776.000000  776.000000  776.000000\n",
       "mean   387.500000    0.492154   15.400099\n",
       "std    224.156196   12.934870    8.009152\n",
       "min      0.000000  -24.856870    5.008911\n",
       "25%    193.750000   -8.227266    8.151474\n",
       "50%    387.500000    0.318647   13.665261\n",
       "75%    581.250000    9.782513   21.175087\n",
       "max    775.000000   24.767551   33.853913"
      ]
     },
     "execution_count": 22,
     "metadata": {},
     "output_type": "execute_result"
    }
   ],
   "source": [
    "df.describe()"
   ]
  },
  {
   "cell_type": "code",
   "execution_count": 17,
   "metadata": {},
   "outputs": [
    {
     "data": {
      "text/plain": [
       "array(['Seth Curry', 'Chris Paul', 'Russell Westbrook', 'Trae Young'],\n",
       "      dtype=object)"
      ]
     },
     "execution_count": 17,
     "metadata": {},
     "output_type": "execute_result"
    }
   ],
   "source": [
    "df['SHOOTER'].unique()"
   ]
  },
  {
   "cell_type": "code",
   "execution_count": 28,
   "metadata": {},
   "outputs": [
    {
     "data": {
      "text/plain": [
       "SHOOTER\n",
       "Trae Young           329\n",
       "Chris Paul           216\n",
       "Seth Curry           147\n",
       "Russell Westbrook     84\n",
       "Name: count, dtype: int64"
      ]
     },
     "execution_count": 28,
     "metadata": {},
     "output_type": "execute_result"
    }
   ],
   "source": [
    "df[\"SHOOTER\"].value_counts()"
   ]
  },
  {
   "cell_type": "code",
   "execution_count": 18,
   "metadata": {},
   "outputs": [
    {
     "data": {
      "text/plain": [
       "array(['(0, 4)', '(5, 9)', '(10, 14)', '(15, 19)', '(20, 24)', '(25, 29)'],\n",
       "      dtype=object)"
      ]
     },
     "execution_count": 18,
     "metadata": {},
     "output_type": "execute_result"
    }
   ],
   "source": [
    "df[\"RANGE\"].unique()"
   ]
  },
  {
   "cell_type": "code",
   "execution_count": 27,
   "metadata": {},
   "outputs": [
    {
     "data": {
      "text/plain": [
       "<Axes: >"
      ]
     },
     "execution_count": 27,
     "metadata": {},
     "output_type": "execute_result"
    },
    {
     "data": {
      "image/png": "[encoded data removed]",
      "text/plain": [
       "<Figure size 640x480 with 1 Axes>"
      ]
     },
     "metadata": {},
     "output_type": "display_data"
    }
   ],
   "source": [
    "df[\"RANGE\"].hist(bins=20)"
   ]
  },
  {
   "cell_type": "code",
   "execution_count": 19,
   "metadata": {},
   "outputs": [
    {
     "data": {
      "text/plain": [
       "array(['Chris Paul', 'Trae Young', 'Russell Westbrook', 'Seth Curry'],\n",
       "      dtype=object)"
      ]
     },
     "execution_count": 19,
     "metadata": {},
     "output_type": "execute_result"
    }
   ],
   "source": [
    "df[\"DEFENDER\"].unique()"
   ]
  },
  {
   "cell_type": "code",
   "execution_count": 29,
   "metadata": {},
   "outputs": [
    {
     "data": {
      "text/plain": [
       "DEFENDER\n",
       "Russell Westbrook    232\n",
       "Chris Paul           197\n",
       "Seth Curry           191\n",
       "Trae Young           156\n",
       "Name: count, dtype: int64"
      ]
     },
     "execution_count": 29,
     "metadata": {},
     "output_type": "execute_result"
    }
   ],
   "source": [
    "df[\"DEFENDER\"].value_counts()"
   ]
  },
  {
   "cell_type": "code",
   "execution_count": 21,
   "metadata": {},
   "outputs": [
    {
     "data": {
      "text/plain": [
       "array(['MADE', 'MISSED'], dtype=object)"
      ]
     },
     "execution_count": 21,
     "metadata": {},
     "output_type": "execute_result"
    }
   ],
   "source": [
    "df[\"SCORE\"].unique()"
   ]
  },
  {
   "cell_type": "code",
   "execution_count": null,
   "metadata": {},
   "outputs": [],
   "source": []
  }
 ],
 "metadata": {
  "kernelspec": {
   "display_name": "Python 3",
   "language": "python",
   "name": "python3"
  },
  "language_info": {
   "codemirror_mode": {
    "name": "ipython",
    "version": 3
   },
   "file_extension": ".py",
   "mimetype": "text/x-python",
   "name": "python",
   "nbconvert_exporter": "python",
   "pygments_lexer": "ipython3",
   "version": "3.12.1"
  }
 },
 "nbformat": 4,
 "nbformat_minor": 2
}
