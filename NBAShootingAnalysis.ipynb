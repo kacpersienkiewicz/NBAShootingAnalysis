{
 "cells": [
  {
   "cell_type": "markdown",
   "metadata": {},
   "source": [
    "This Jupyter Notebook will use data sourced from datacamp.com to analyze shots made by four players. I will be looking at the accuracy of various shots, the distribution of shots, and defensive capabilities of those four players.\n",
    "\n",
    "It is important to note that the data was carefully chosen by the original poster to include only those four players both as shot-takers and as defenders. This can skew the data which may show up in the data later on."
   ]
  },
  {
   "cell_type": "code",
   "execution_count": 1,
   "metadata": {},
   "outputs": [],
   "source": [
    "import pandas as pd\n",
    "import numpy as np\n",
    "import matplotlib.pyplot as plt"
   ]
  },
  {
   "cell_type": "code",
   "execution_count": 108,
   "metadata": {},
   "outputs": [],
   "source": [
    "Players = [\"Seth Curry\", \"Chris Paul\", \"Russell Westbrook\", \"Trae Young\"]\n",
    "Colors = ['b', 'orange', 'g', 'r']\n",
    "width = 0.2"
   ]
  },
  {
   "cell_type": "code",
   "execution_count": 2,
   "metadata": {},
   "outputs": [
    {
     "data": {
      "text/html": [
       "<div>\n",
       "<style scoped>\n",
       "    .dataframe tbody tr th:only-of-type {\n",
       "        vertical-align: middle;\n",
       "    }\n",
       "\n",
       "    .dataframe tbody tr th {\n",
       "        vertical-align: top;\n",
       "    }\n",
       "\n",
       "    .dataframe thead th {\n",
       "        text-align: right;\n",
       "    }\n",
       "</style>\n",
       "<table border=\"1\" class=\"dataframe\">\n",
       "  <thead>\n",
       "    <tr style=\"text-align: right;\">\n",
       "      <th></th>\n",
       "      <th>INDEX</th>\n",
       "      <th>SHOOTER</th>\n",
       "      <th>X</th>\n",
       "      <th>Y</th>\n",
       "      <th>RANGE</th>\n",
       "      <th>DEFENDER</th>\n",
       "      <th>SCORE</th>\n",
       "    </tr>\n",
       "  </thead>\n",
       "  <tbody>\n",
       "    <tr>\n",
       "      <th>0</th>\n",
       "      <td>0</td>\n",
       "      <td>Seth Curry</td>\n",
       "      <td>-3.808987</td>\n",
       "      <td>5.583621</td>\n",
       "      <td>(0, 4)</td>\n",
       "      <td>Chris Paul</td>\n",
       "      <td>MADE</td>\n",
       "    </tr>\n",
       "    <tr>\n",
       "      <th>1</th>\n",
       "      <td>1</td>\n",
       "      <td>Seth Curry</td>\n",
       "      <td>-0.104279</td>\n",
       "      <td>5.919138</td>\n",
       "      <td>(0, 4)</td>\n",
       "      <td>Trae Young</td>\n",
       "      <td>MADE</td>\n",
       "    </tr>\n",
       "    <tr>\n",
       "      <th>2</th>\n",
       "      <td>2</td>\n",
       "      <td>Seth Curry</td>\n",
       "      <td>-0.525864</td>\n",
       "      <td>8.912239</td>\n",
       "      <td>(0, 4)</td>\n",
       "      <td>Trae Young</td>\n",
       "      <td>MADE</td>\n",
       "    </tr>\n",
       "    <tr>\n",
       "      <th>3</th>\n",
       "      <td>3</td>\n",
       "      <td>Seth Curry</td>\n",
       "      <td>-0.790616</td>\n",
       "      <td>7.503782</td>\n",
       "      <td>(0, 4)</td>\n",
       "      <td>Chris Paul</td>\n",
       "      <td>MADE</td>\n",
       "    </tr>\n",
       "    <tr>\n",
       "      <th>4</th>\n",
       "      <td>4</td>\n",
       "      <td>Seth Curry</td>\n",
       "      <td>2.119074</td>\n",
       "      <td>5.320534</td>\n",
       "      <td>(0, 4)</td>\n",
       "      <td>Trae Young</td>\n",
       "      <td>MADE</td>\n",
       "    </tr>\n",
       "  </tbody>\n",
       "</table>\n",
       "</div>"
      ],
      "text/plain": [
       "   INDEX     SHOOTER         X         Y   RANGE    DEFENDER SCORE\n",
       "0      0  Seth Curry -3.808987  5.583621  (0, 4)  Chris Paul  MADE\n",
       "1      1  Seth Curry -0.104279  5.919138  (0, 4)  Trae Young  MADE\n",
       "2      2  Seth Curry -0.525864  8.912239  (0, 4)  Trae Young  MADE\n",
       "3      3  Seth Curry -0.790616  7.503782  (0, 4)  Chris Paul  MADE\n",
       "4      4  Seth Curry  2.119074  5.320534  (0, 4)  Trae Young  MADE"
      ]
     },
     "execution_count": 2,
     "metadata": {},
     "output_type": "execute_result"
    }
   ],
   "source": [
    "df = pd.read_csv('nba_players_shooting.csv')\n",
    "df.head()"
   ]
  },
  {
   "cell_type": "code",
   "execution_count": 3,
   "metadata": {},
   "outputs": [
    {
     "data": {
      "text/plain": [
       "INDEX         int64\n",
       "SHOOTER      object\n",
       "X           float64\n",
       "Y           float64\n",
       "RANGE        object\n",
       "DEFENDER     object\n",
       "SCORE        object\n",
       "dtype: object"
      ]
     },
     "execution_count": 3,
     "metadata": {},
     "output_type": "execute_result"
    }
   ],
   "source": [
    "df.dtypes"
   ]
  },
  {
   "cell_type": "code",
   "execution_count": 4,
   "metadata": {},
   "outputs": [
    {
     "data": {
      "text/html": [
       "<div>\n",
       "<style scoped>\n",
       "    .dataframe tbody tr th:only-of-type {\n",
       "        vertical-align: middle;\n",
       "    }\n",
       "\n",
       "    .dataframe tbody tr th {\n",
       "        vertical-align: top;\n",
       "    }\n",
       "\n",
       "    .dataframe thead th {\n",
       "        text-align: right;\n",
       "    }\n",
       "</style>\n",
       "<table border=\"1\" class=\"dataframe\">\n",
       "  <thead>\n",
       "    <tr style=\"text-align: right;\">\n",
       "      <th></th>\n",
       "      <th>INDEX</th>\n",
       "      <th>X</th>\n",
       "      <th>Y</th>\n",
       "    </tr>\n",
       "  </thead>\n",
       "  <tbody>\n",
       "    <tr>\n",
       "      <th>count</th>\n",
       "      <td>776.000000</td>\n",
       "      <td>776.000000</td>\n",
       "      <td>776.000000</td>\n",
       "    </tr>\n",
       "    <tr>\n",
       "      <th>mean</th>\n",
       "      <td>387.500000</td>\n",
       "      <td>0.492154</td>\n",
       "      <td>15.400099</td>\n",
       "    </tr>\n",
       "    <tr>\n",
       "      <th>std</th>\n",
       "      <td>224.156196</td>\n",
       "      <td>12.934870</td>\n",
       "      <td>8.009152</td>\n",
       "    </tr>\n",
       "    <tr>\n",
       "      <th>min</th>\n",
       "      <td>0.000000</td>\n",
       "      <td>-24.856870</td>\n",
       "      <td>5.008911</td>\n",
       "    </tr>\n",
       "    <tr>\n",
       "      <th>25%</th>\n",
       "      <td>193.750000</td>\n",
       "      <td>-8.227266</td>\n",
       "      <td>8.151474</td>\n",
       "    </tr>\n",
       "    <tr>\n",
       "      <th>50%</th>\n",
       "      <td>387.500000</td>\n",
       "      <td>0.318647</td>\n",
       "      <td>13.665261</td>\n",
       "    </tr>\n",
       "    <tr>\n",
       "      <th>75%</th>\n",
       "      <td>581.250000</td>\n",
       "      <td>9.782513</td>\n",
       "      <td>21.175087</td>\n",
       "    </tr>\n",
       "    <tr>\n",
       "      <th>max</th>\n",
       "      <td>775.000000</td>\n",
       "      <td>24.767551</td>\n",
       "      <td>33.853913</td>\n",
       "    </tr>\n",
       "  </tbody>\n",
       "</table>\n",
       "</div>"
      ],
      "text/plain": [
       "            INDEX           X           Y\n",
       "count  776.000000  776.000000  776.000000\n",
       "mean   387.500000    0.492154   15.400099\n",
       "std    224.156196   12.934870    8.009152\n",
       "min      0.000000  -24.856870    5.008911\n",
       "25%    193.750000   -8.227266    8.151474\n",
       "50%    387.500000    0.318647   13.665261\n",
       "75%    581.250000    9.782513   21.175087\n",
       "max    775.000000   24.767551   33.853913"
      ]
     },
     "execution_count": 4,
     "metadata": {},
     "output_type": "execute_result"
    }
   ],
   "source": [
    "df.describe()"
   ]
  },
  {
   "cell_type": "code",
   "execution_count": 5,
   "metadata": {},
   "outputs": [
    {
     "data": {
      "text/plain": [
       "array(['Seth Curry', 'Chris Paul', 'Russell Westbrook', 'Trae Young'],\n",
       "      dtype=object)"
      ]
     },
     "execution_count": 5,
     "metadata": {},
     "output_type": "execute_result"
    }
   ],
   "source": [
    "df['SHOOTER'].unique()"
   ]
  },
  {
   "cell_type": "code",
   "execution_count": 102,
   "metadata": {},
   "outputs": [
    {
     "data": {
      "text/plain": [
       "SHOOTER\n",
       "Trae Young           329\n",
       "Chris Paul           216\n",
       "Seth Curry           147\n",
       "Russell Westbrook     84\n",
       "Name: count, dtype: int64"
      ]
     },
     "execution_count": 102,
     "metadata": {},
     "output_type": "execute_result"
    }
   ],
   "source": [
    "df[\"SHOOTER\"].value_counts()"
   ]
  },
  {
   "cell_type": "code",
   "execution_count": 7,
   "metadata": {},
   "outputs": [
    {
     "data": {
      "text/plain": [
       "array(['(0, 4)', '(5, 9)', '(10, 14)', '(15, 19)', '(20, 24)', '(25, 29)'],\n",
       "      dtype=object)"
      ]
     },
     "execution_count": 7,
     "metadata": {},
     "output_type": "execute_result"
    }
   ],
   "source": [
    "df[\"RANGE\"].unique()"
   ]
  },
  {
   "cell_type": "markdown",
   "metadata": {},
   "source": [
    "There doesn't seem to be any missing values, and the Range is divided into 4 feet segments. A few things to note: the three point line starts at 24 feet away from the basket ( except at the corners where it's 22 feet away), and the basket starts at 4 feet away from the edge of the court. The basketball court is not symmetrical across the X and Y axis. For example, the paint is longer lengthwise than its width and corner 3's are closer than threes from the arc. This means that some analysis using X and Y will be needed to determine things like accuracy from the corner or scoring in the paint. \n",
    "\n",
    "It looks like **X** refers to the width, i.e. corner to corner, and **Y** refers to the length of the court, i.e. from basket to basket."
   ]
  },
  {
   "cell_type": "code",
   "execution_count": 8,
   "metadata": {},
   "outputs": [
    {
     "data": {
      "text/plain": [
       "<Axes: >"
      ]
     },
     "execution_count": 8,
     "metadata": {},
     "output_type": "execute_result"
    },
    {
     "data": {
      "image/png": "[encoded data removed]",
      "text/plain": [
       "<Figure size 640x480 with 1 Axes>"
      ]
     },
     "metadata": {},
     "output_type": "display_data"
    }
   ],
   "source": [
    "df[\"RANGE\"].hist(bins=20)"
   ]
  },
  {
   "cell_type": "code",
   "execution_count": 128,
   "metadata": {},
   "outputs": [
    {
     "data": {
      "text/plain": [
       "([<matplotlib.axis.XTick at 0x1d829c83500>,\n",
       "  <matplotlib.axis.XTick at 0x1d82c16b020>,\n",
       "  <matplotlib.axis.XTick at 0x1d82c146c30>,\n",
       "  <matplotlib.axis.XTick at 0x1d82c1c3380>,\n",
       "  <matplotlib.axis.XTick at 0x1d82c1c3cb0>,\n",
       "  <matplotlib.axis.XTick at 0x1d82c1c3bf0>],\n",
       " [Text(0.30000000000000004, 0, '(0, 4)'),\n",
       "  Text(1.3, 0, '(5, 9)'),\n",
       "  Text(2.3, 0, '(10, 14)'),\n",
       "  Text(3.3, 0, '(15, 19)'),\n",
       "  Text(4.3, 0, '(20, 24)'),\n",
       "  Text(5.3, 0, '(25, 29)')])"
      ]
     },
     "execution_count": 128,
     "metadata": {},
     "output_type": "execute_result"
    },
    {
     "data": {
      "image/png": "[encoded data removed]",
      "text/plain": [
       "<Figure size 640x480 with 1 Axes>"
      ]
     },
     "metadata": {},
     "output_type": "display_data"
    }
   ],
   "source": [
    "XRange = np.arange(6)\n",
    "\n",
    "for i, Player in enumerate(Players):\n",
    "    data = dict(df[df[\"SHOOTER\"] == Player][\"RANGE\"].value_counts(sort=False) / len(df[df[\"SHOOTER\"] == Player]) * 100)\n",
    "    plt.bar((XRange + i * width), list(data.values()), width, color=Colors[i], label = Player)\n",
    "    \n",
    "plt.title(\"Shot Distribution\")\n",
    "plt.legend()\n",
    "plt.xticks(XRange+1.5*width, list(data.keys()))"
   ]
  },
  {
   "cell_type": "markdown",
   "metadata": {},
   "source": [
    "Each of the four shooters present a somewhat different style. Seth Curry specializes in long range shots, with most of his attempts being at 20 plus feet. The attempts are roughly proportional to the distance away from the basket. Chris Paul mainly shoots from mid-range, in between the paint and the three point line, but doesn't take incredibly deep midrange shots. There is a spike at 25-29 feet, but there are roughly as many shots at less than 10 feet and more than 19 feet. Russell Westbrook specializes in close and mid-range shots, with a spattering of threes. Trae Young spreads his shots out, with significant amounts of close, mid-range, and long range shots.\n",
    "\n",
    "This collection of 4 players should provide many opportunities to compare and contrast their statistics. "
   ]
  },
  {
   "cell_type": "code",
   "execution_count": 17,
   "metadata": {},
   "outputs": [
    {
     "data": {
      "text/plain": [
       "array(['Chris Paul', 'Trae Young', 'Russell Westbrook', 'Seth Curry'],\n",
       "      dtype=object)"
      ]
     },
     "execution_count": 17,
     "metadata": {},
     "output_type": "execute_result"
    }
   ],
   "source": [
    "df[\"DEFENDER\"].unique()"
   ]
  },
  {
   "cell_type": "code",
   "execution_count": 18,
   "metadata": {},
   "outputs": [
    {
     "data": {
      "text/plain": [
       "DEFENDER\n",
       "Russell Westbrook    232\n",
       "Chris Paul           197\n",
       "Seth Curry           191\n",
       "Trae Young           156\n",
       "Name: count, dtype: int64"
      ]
     },
     "execution_count": 18,
     "metadata": {},
     "output_type": "execute_result"
    }
   ],
   "source": [
    "df[\"DEFENDER\"].value_counts()"
   ]
  },
  {
   "cell_type": "code",
   "execution_count": 19,
   "metadata": {},
   "outputs": [
    {
     "data": {
      "text/plain": [
       "array(['MADE', 'MISSED'], dtype=object)"
      ]
     },
     "execution_count": 19,
     "metadata": {},
     "output_type": "execute_result"
    }
   ],
   "source": [
    "df[\"SCORE\"].unique()"
   ]
  },
  {
   "cell_type": "code",
   "execution_count": 134,
   "metadata": {},
   "outputs": [
    {
     "data": {
      "text/plain": [
       "([<matplotlib.axis.XTick at 0x1d82c5044d0>,\n",
       "  <matplotlib.axis.XTick at 0x1d82c504680>],\n",
       " [Text(0.30000000000000004, 0, 'MADE'), Text(1.3, 0, 'MISSED')])"
      ]
     },
     "execution_count": 134,
     "metadata": {},
     "output_type": "execute_result"
    },
    {
     "data": {
      "image/png": "[encoded data removed]",
      "text/plain": [
       "<Figure size 640x480 with 1 Axes>"
      ]
     },
     "metadata": {},
     "output_type": "display_data"
    }
   ],
   "source": [
    "XRange = np.arange(2)\n",
    "for i, Player in enumerate(Players):\n",
    "    data = dict(df[df[\"SHOOTER\"] == Player][\"SCORE\"].value_counts(sort=False))\n",
    "    plt.bar(XRange + i * width, list(data.values()),width,color=Colors[i], label=Player)\n",
    "\n",
    "plt.title(\"Missed and Made Shots by Player\")\n",
    "plt.legend()\n",
    "plt.xticks(XRange+1.5*width, list(data.keys()))"
   ]
  },
  {
   "cell_type": "markdown",
   "metadata": {},
   "source": [
    "This ends the preliminary data analysis. Now, I'll be looking at accuracy from the corner three spot, accuracy from three, mid-range and from up close. Then I will look at how well each person defended against shots.\n",
    "\n",
    "As mentioned previously, corner threes are from 22 feet above and below the basket and 14 feet across as can be seen on this diagram on the NBA's website:\n",
    "\n",
    "*https://ak-static.cms.nba.com/wp-content/uploads/sites/4/2019/02/NBA-Court-Dimensions-.png*\n",
    "\n",
    "I will be selecting the shots where the absolute value of X is 22 or more feet, and Y is less than or equal to 14.\n",
    "\n",
    "Accuracy for 3 will be divided into corner and arc 3's. Corner threes are from the corner, that is in between that line at 22 feet from the basket and the edge of the court. Arc 3's are the three's which are behind the curved portion of the three point line. This shots are all taken from 23 feet and 9 inches from the basket or further (this is 28 feet from the origin).\n",
    "\n",
    "Mid-range is outside of the paint but encompassed by the 3 point line. The paint is a rectangle with dimensions: 12 by 19 feet. An easy solution will be to use the information from the shots up close and three to figure out mid-range accuracy.\n",
    "\n",
    "Close range shots are those within the paint mentioned before.\n",
    "\n",
    "Later on the percentages for each shot type will be graphed to show the efficacy of each shooter."
   ]
  },
  {
   "cell_type": "code",
   "execution_count": 24,
   "metadata": {},
   "outputs": [
    {
     "data": {
      "text/html": [
       "<div>\n",
       "<style scoped>\n",
       "    .dataframe tbody tr th:only-of-type {\n",
       "        vertical-align: middle;\n",
       "    }\n",
       "\n",
       "    .dataframe tbody tr th {\n",
       "        vertical-align: top;\n",
       "    }\n",
       "\n",
       "    .dataframe thead th {\n",
       "        text-align: right;\n",
       "    }\n",
       "</style>\n",
       "<table border=\"1\" class=\"dataframe\">\n",
       "  <thead>\n",
       "    <tr style=\"text-align: right;\">\n",
       "      <th></th>\n",
       "      <th>INDEX</th>\n",
       "      <th>X</th>\n",
       "      <th>Y</th>\n",
       "    </tr>\n",
       "  </thead>\n",
       "  <tbody>\n",
       "    <tr>\n",
       "      <th>count</th>\n",
       "      <td>54.000000</td>\n",
       "      <td>54.000000</td>\n",
       "      <td>54.000000</td>\n",
       "    </tr>\n",
       "    <tr>\n",
       "      <th>mean</th>\n",
       "      <td>486.370370</td>\n",
       "      <td>-4.515984</td>\n",
       "      <td>9.894997</td>\n",
       "    </tr>\n",
       "    <tr>\n",
       "      <th>std</th>\n",
       "      <td>255.485058</td>\n",
       "      <td>23.637168</td>\n",
       "      <td>2.161070</td>\n",
       "    </tr>\n",
       "    <tr>\n",
       "      <th>min</th>\n",
       "      <td>70.000000</td>\n",
       "      <td>-24.856870</td>\n",
       "      <td>5.441226</td>\n",
       "    </tr>\n",
       "    <tr>\n",
       "      <th>25%</th>\n",
       "      <td>320.500000</td>\n",
       "      <td>-24.232052</td>\n",
       "      <td>8.032838</td>\n",
       "    </tr>\n",
       "    <tr>\n",
       "      <th>50%</th>\n",
       "      <td>650.500000</td>\n",
       "      <td>-22.960338</td>\n",
       "      <td>10.255225</td>\n",
       "    </tr>\n",
       "    <tr>\n",
       "      <th>75%</th>\n",
       "      <td>703.500000</td>\n",
       "      <td>23.952742</td>\n",
       "      <td>11.731072</td>\n",
       "    </tr>\n",
       "    <tr>\n",
       "      <th>max</th>\n",
       "      <td>767.000000</td>\n",
       "      <td>23.952742</td>\n",
       "      <td>13.280662</td>\n",
       "    </tr>\n",
       "  </tbody>\n",
       "</table>\n",
       "</div>"
      ],
      "text/plain": [
       "            INDEX          X          Y\n",
       "count   54.000000  54.000000  54.000000\n",
       "mean   486.370370  -4.515984   9.894997\n",
       "std    255.485058  23.637168   2.161070\n",
       "min     70.000000 -24.856870   5.441226\n",
       "25%    320.500000 -24.232052   8.032838\n",
       "50%    650.500000 -22.960338  10.255225\n",
       "75%    703.500000  23.952742  11.731072\n",
       "max    767.000000  23.952742  13.280662"
      ]
     },
     "execution_count": 24,
     "metadata": {},
     "output_type": "execute_result"
    }
   ],
   "source": [
    "Corner3df = df[(abs(df.X) >= 22.0) & (df.Y <= 14)]\n",
    "Corner3df.describe()"
   ]
  },
  {
   "cell_type": "code",
   "execution_count": 25,
   "metadata": {},
   "outputs": [
    {
     "data": {
      "text/html": [
       "<div>\n",
       "<style scoped>\n",
       "    .dataframe tbody tr th:only-of-type {\n",
       "        vertical-align: middle;\n",
       "    }\n",
       "\n",
       "    .dataframe tbody tr th {\n",
       "        vertical-align: top;\n",
       "    }\n",
       "\n",
       "    .dataframe thead th {\n",
       "        text-align: right;\n",
       "    }\n",
       "</style>\n",
       "<table border=\"1\" class=\"dataframe\">\n",
       "  <thead>\n",
       "    <tr style=\"text-align: right;\">\n",
       "      <th></th>\n",
       "      <th>INDEX</th>\n",
       "      <th>SHOOTER</th>\n",
       "      <th>X</th>\n",
       "      <th>Y</th>\n",
       "      <th>RANGE</th>\n",
       "      <th>DEFENDER</th>\n",
       "      <th>SCORE</th>\n",
       "    </tr>\n",
       "  </thead>\n",
       "  <tbody>\n",
       "    <tr>\n",
       "      <th>70</th>\n",
       "      <td>70</td>\n",
       "      <td>Seth Curry</td>\n",
       "      <td>-22.018244</td>\n",
       "      <td>12.370524</td>\n",
       "      <td>(20, 24)</td>\n",
       "      <td>Trae Young</td>\n",
       "      <td>MADE</td>\n",
       "    </tr>\n",
       "    <tr>\n",
       "      <th>91</th>\n",
       "      <td>91</td>\n",
       "      <td>Seth Curry</td>\n",
       "      <td>-24.232052</td>\n",
       "      <td>5.829153</td>\n",
       "      <td>(25, 29)</td>\n",
       "      <td>Russell Westbrook</td>\n",
       "      <td>MADE</td>\n",
       "    </tr>\n",
       "    <tr>\n",
       "      <th>97</th>\n",
       "      <td>97</td>\n",
       "      <td>Seth Curry</td>\n",
       "      <td>23.952742</td>\n",
       "      <td>10.040589</td>\n",
       "      <td>(25, 29)</td>\n",
       "      <td>Chris Paul</td>\n",
       "      <td>MADE</td>\n",
       "    </tr>\n",
       "    <tr>\n",
       "      <th>101</th>\n",
       "      <td>101</td>\n",
       "      <td>Seth Curry</td>\n",
       "      <td>23.952742</td>\n",
       "      <td>10.814010</td>\n",
       "      <td>(25, 29)</td>\n",
       "      <td>Trae Young</td>\n",
       "      <td>MADE</td>\n",
       "    </tr>\n",
       "    <tr>\n",
       "      <th>104</th>\n",
       "      <td>104</td>\n",
       "      <td>Seth Curry</td>\n",
       "      <td>23.952742</td>\n",
       "      <td>11.105474</td>\n",
       "      <td>(25, 29)</td>\n",
       "      <td>Trae Young</td>\n",
       "      <td>MADE</td>\n",
       "    </tr>\n",
       "  </tbody>\n",
       "</table>\n",
       "</div>"
      ],
      "text/plain": [
       "     INDEX     SHOOTER          X          Y     RANGE           DEFENDER  \\\n",
       "70      70  Seth Curry -22.018244  12.370524  (20, 24)         Trae Young   \n",
       "91      91  Seth Curry -24.232052   5.829153  (25, 29)  Russell Westbrook   \n",
       "97      97  Seth Curry  23.952742  10.040589  (25, 29)         Chris Paul   \n",
       "101    101  Seth Curry  23.952742  10.814010  (25, 29)         Trae Young   \n",
       "104    104  Seth Curry  23.952742  11.105474  (25, 29)         Trae Young   \n",
       "\n",
       "    SCORE  \n",
       "70   MADE  \n",
       "91   MADE  \n",
       "97   MADE  \n",
       "101  MADE  \n",
       "104  MADE  "
      ]
     },
     "execution_count": 25,
     "metadata": {},
     "output_type": "execute_result"
    }
   ],
   "source": [
    "Corner3df.head()"
   ]
  },
  {
   "cell_type": "code",
   "execution_count": 26,
   "metadata": {},
   "outputs": [
    {
     "data": {
      "text/plain": [
       "SCORE\n",
       "MISSED    28\n",
       "MADE      26\n",
       "Name: count, dtype: int64"
      ]
     },
     "execution_count": 26,
     "metadata": {},
     "output_type": "execute_result"
    }
   ],
   "source": [
    "Corner3df['SCORE'].value_counts()"
   ]
  },
  {
   "cell_type": "code",
   "execution_count": null,
   "metadata": {},
   "outputs": [],
   "source": []
  },
  {
   "cell_type": "code",
   "execution_count": 27,
   "metadata": {},
   "outputs": [
    {
     "name": "stdout",
     "output_type": "stream",
     "text": [
      "13\n",
      "8.843537414965986\n"
     ]
    },
    {
     "data": {
      "text/plain": [
       "76.92307692307693"
      ]
     },
     "execution_count": 27,
     "metadata": {},
     "output_type": "execute_result"
    }
   ],
   "source": [
    "SCCorner3 = Corner3df[Corner3df[\"SHOOTER\"] == 'Seth Curry']\n",
    "\n",
    "SCCorner3percent = len(SCCorner3[SCCorner3[\"SCORE\"] == \"MADE\"]) / len(SCCorner3[\"SCORE\"]) * 100\n",
    "\n",
    "print(len(SCCorner3[\"SCORE\"]))\n",
    "print(len(SCCorner3[\"SCORE\"]) / len(df[df.SHOOTER == \"Seth Curry\"]) * 100)\n",
    "SCCorner3percent"
   ]
  },
  {
   "cell_type": "code",
   "execution_count": 28,
   "metadata": {},
   "outputs": [
    {
     "name": "stdout",
     "output_type": "stream",
     "text": [
      "8\n",
      "3.7037037037037033\n"
     ]
    },
    {
     "data": {
      "text/plain": [
       "25.0"
      ]
     },
     "execution_count": 28,
     "metadata": {},
     "output_type": "execute_result"
    }
   ],
   "source": [
    "CPCorner3 = Corner3df[Corner3df[\"SHOOTER\"] == 'Chris Paul']\n",
    "\n",
    "CPCorner3percent = len(CPCorner3[CPCorner3[\"SCORE\"] == \"MADE\"]) / len(CPCorner3[\"SCORE\"]) * 100\n",
    "\n",
    "print(len(CPCorner3[\"SCORE\"]))\n",
    "print(len(CPCorner3[\"SCORE\"]) / len(df[df.SHOOTER == \"Chris Paul\"]) * 100)\n",
    "CPCorner3percent"
   ]
  },
  {
   "cell_type": "code",
   "execution_count": 29,
   "metadata": {},
   "outputs": [
    {
     "name": "stdout",
     "output_type": "stream",
     "text": [
      "4\n",
      "4.761904761904762\n"
     ]
    },
    {
     "data": {
      "text/plain": [
       "25.0"
      ]
     },
     "execution_count": 29,
     "metadata": {},
     "output_type": "execute_result"
    }
   ],
   "source": [
    "RWCorner3 = Corner3df[Corner3df[\"SHOOTER\"] == 'Russell Westbrook']\n",
    "\n",
    "RWCorner3percent = len(RWCorner3[RWCorner3[\"SCORE\"] == \"MADE\"]) / len(RWCorner3[\"SCORE\"]) * 100\n",
    "\n",
    "print(len(RWCorner3[\"SCORE\"]))\n",
    "print(len(RWCorner3[\"SCORE\"]) / len(df[df.SHOOTER == \"Russell Westbrook\"]) * 100)\n",
    "RWCorner3percent"
   ]
  },
  {
   "cell_type": "code",
   "execution_count": 30,
   "metadata": {},
   "outputs": [
    {
     "name": "stdout",
     "output_type": "stream",
     "text": [
      "29\n",
      "8.814589665653495\n"
     ]
    },
    {
     "data": {
      "text/plain": [
       "44.827586206896555"
      ]
     },
     "execution_count": 30,
     "metadata": {},
     "output_type": "execute_result"
    }
   ],
   "source": [
    "TYCorner3 = Corner3df[Corner3df[\"SHOOTER\"] == 'Trae Young']\n",
    "\n",
    "TYCorner3percent = len(TYCorner3[TYCorner3[\"SCORE\"] == \"MADE\"]) / len(TYCorner3[\"SCORE\"]) * 100\n",
    "\n",
    "print(len(TYCorner3[\"SCORE\"]))\n",
    "print(len(TYCorner3[\"SCORE\"]) / len(df[df.SHOOTER == \"Trae Young\"]) * 100)\n",
    "TYCorner3percent"
   ]
  },
  {
   "cell_type": "markdown",
   "metadata": {},
   "source": [
    "We can see that corner threes are around 9% of the shots Seth Curry and Trae Young take, and they make them well. On the other hand, Westbrook and Paul don't take many at around 3-5% of their shots, and they do not make them often. I would expect Seth Curry's percentage to go down as he takes shots since 77% is unsustainable for volume shooters. \n",
    "\n",
    "It seems we can peg Seth Curry and Trae Young as 3 point specialists but we won't know for certain until analyzing the more popular 3 point shooting from the arc. \n",
    "\n",
    "I will be using the distance formula to definitively find all of the shots behind the three point line, but we need to get rid of the corner 3 shots. This means Y must be more than 14 and we need to use the distance formula to find the exact distance from the origin.\n"
   ]
  },
  {
   "cell_type": "code",
   "execution_count": 31,
   "metadata": {},
   "outputs": [
    {
     "data": {
      "text/html": [
       "<div>\n",
       "<style scoped>\n",
       "    .dataframe tbody tr th:only-of-type {\n",
       "        vertical-align: middle;\n",
       "    }\n",
       "\n",
       "    .dataframe tbody tr th {\n",
       "        vertical-align: top;\n",
       "    }\n",
       "\n",
       "    .dataframe thead th {\n",
       "        text-align: right;\n",
       "    }\n",
       "</style>\n",
       "<table border=\"1\" class=\"dataframe\">\n",
       "  <thead>\n",
       "    <tr style=\"text-align: right;\">\n",
       "      <th></th>\n",
       "      <th>INDEX</th>\n",
       "      <th>X</th>\n",
       "      <th>Y</th>\n",
       "    </tr>\n",
       "  </thead>\n",
       "  <tbody>\n",
       "    <tr>\n",
       "      <th>count</th>\n",
       "      <td>206.000000</td>\n",
       "      <td>206.000000</td>\n",
       "      <td>206.000000</td>\n",
       "    </tr>\n",
       "    <tr>\n",
       "      <th>mean</th>\n",
       "      <td>469.305825</td>\n",
       "      <td>1.313896</td>\n",
       "      <td>22.440881</td>\n",
       "    </tr>\n",
       "    <tr>\n",
       "      <th>std</th>\n",
       "      <td>265.783588</td>\n",
       "      <td>18.801441</td>\n",
       "      <td>8.332400</td>\n",
       "    </tr>\n",
       "    <tr>\n",
       "      <th>min</th>\n",
       "      <td>88.000000</td>\n",
       "      <td>-24.856870</td>\n",
       "      <td>5.441226</td>\n",
       "    </tr>\n",
       "    <tr>\n",
       "      <th>25%</th>\n",
       "      <td>139.250000</td>\n",
       "      <td>-17.111975</td>\n",
       "      <td>15.854462</td>\n",
       "    </tr>\n",
       "    <tr>\n",
       "      <th>50%</th>\n",
       "      <td>442.500000</td>\n",
       "      <td>1.714225</td>\n",
       "      <td>24.114010</td>\n",
       "    </tr>\n",
       "    <tr>\n",
       "      <th>75%</th>\n",
       "      <td>723.750000</td>\n",
       "      <td>21.475274</td>\n",
       "      <td>30.330252</td>\n",
       "    </tr>\n",
       "    <tr>\n",
       "      <th>max</th>\n",
       "      <td>775.000000</td>\n",
       "      <td>24.767551</td>\n",
       "      <td>33.853913</td>\n",
       "    </tr>\n",
       "  </tbody>\n",
       "</table>\n",
       "</div>"
      ],
      "text/plain": [
       "            INDEX           X           Y\n",
       "count  206.000000  206.000000  206.000000\n",
       "mean   469.305825    1.313896   22.440881\n",
       "std    265.783588   18.801441    8.332400\n",
       "min     88.000000  -24.856870    5.441226\n",
       "25%    139.250000  -17.111975   15.854462\n",
       "50%    442.500000    1.714225   24.114010\n",
       "75%    723.750000   21.475274   30.330252\n",
       "max    775.000000   24.767551   33.853913"
      ]
     },
     "execution_count": 31,
     "metadata": {},
     "output_type": "execute_result"
    }
   ],
   "source": [
    "df[df[\"RANGE\"] == \"(25, 29)\"].describe()"
   ]
  },
  {
   "cell_type": "code",
   "execution_count": 32,
   "metadata": {},
   "outputs": [
    {
     "data": {
      "text/html": [
       "<div>\n",
       "<style scoped>\n",
       "    .dataframe tbody tr th:only-of-type {\n",
       "        vertical-align: middle;\n",
       "    }\n",
       "\n",
       "    .dataframe tbody tr th {\n",
       "        vertical-align: top;\n",
       "    }\n",
       "\n",
       "    .dataframe thead th {\n",
       "        text-align: right;\n",
       "    }\n",
       "</style>\n",
       "<table border=\"1\" class=\"dataframe\">\n",
       "  <thead>\n",
       "    <tr style=\"text-align: right;\">\n",
       "      <th></th>\n",
       "      <th>INDEX</th>\n",
       "      <th>X</th>\n",
       "      <th>Y</th>\n",
       "    </tr>\n",
       "  </thead>\n",
       "  <tbody>\n",
       "    <tr>\n",
       "      <th>count</th>\n",
       "      <td>84.000000</td>\n",
       "      <td>84.000000</td>\n",
       "      <td>84.000000</td>\n",
       "    </tr>\n",
       "    <tr>\n",
       "      <th>mean</th>\n",
       "      <td>366.630952</td>\n",
       "      <td>0.363457</td>\n",
       "      <td>19.407309</td>\n",
       "    </tr>\n",
       "    <tr>\n",
       "      <th>std</th>\n",
       "      <td>253.838284</td>\n",
       "      <td>16.365375</td>\n",
       "      <td>6.594484</td>\n",
       "    </tr>\n",
       "    <tr>\n",
       "      <th>min</th>\n",
       "      <td>58.000000</td>\n",
       "      <td>-23.741319</td>\n",
       "      <td>6.396797</td>\n",
       "    </tr>\n",
       "    <tr>\n",
       "      <th>25%</th>\n",
       "      <td>78.750000</td>\n",
       "      <td>-16.849759</td>\n",
       "      <td>13.640112</td>\n",
       "    </tr>\n",
       "    <tr>\n",
       "      <th>50%</th>\n",
       "      <td>324.500000</td>\n",
       "      <td>1.801137</td>\n",
       "      <td>20.957780</td>\n",
       "    </tr>\n",
       "    <tr>\n",
       "      <th>75%</th>\n",
       "      <td>655.250000</td>\n",
       "      <td>16.421417</td>\n",
       "      <td>24.501316</td>\n",
       "    </tr>\n",
       "    <tr>\n",
       "      <th>max</th>\n",
       "      <td>676.000000</td>\n",
       "      <td>23.634205</td>\n",
       "      <td>28.730485</td>\n",
       "    </tr>\n",
       "  </tbody>\n",
       "</table>\n",
       "</div>"
      ],
      "text/plain": [
       "            INDEX          X          Y\n",
       "count   84.000000  84.000000  84.000000\n",
       "mean   366.630952   0.363457  19.407309\n",
       "std    253.838284  16.365375   6.594484\n",
       "min     58.000000 -23.741319   6.396797\n",
       "25%     78.750000 -16.849759  13.640112\n",
       "50%    324.500000   1.801137  20.957780\n",
       "75%    655.250000  16.421417  24.501316\n",
       "max    676.000000  23.634205  28.730485"
      ]
     },
     "execution_count": 32,
     "metadata": {},
     "output_type": "execute_result"
    }
   ],
   "source": [
    "df[df[\"RANGE\"] == \"(20, 24)\"].describe()"
   ]
  },
  {
   "cell_type": "code",
   "execution_count": 33,
   "metadata": {},
   "outputs": [
    {
     "data": {
      "text/plain": [
       "count    776.000000\n",
       "mean      19.876875\n",
       "std        8.577239\n",
       "min        5.020788\n",
       "25%       12.587478\n",
       "50%       19.983144\n",
       "75%       27.278761\n",
       "max       33.915899\n",
       "Name: DISTANCE, dtype: float64"
      ]
     },
     "execution_count": 33,
     "metadata": {},
     "output_type": "execute_result"
    }
   ],
   "source": [
    "df[\"DISTANCE\"] = np.sqrt(pow(df['X'],2) + pow(df['Y'],2))\n",
    "df[\"DISTANCE\"].describe()"
   ]
  },
  {
   "cell_type": "code",
   "execution_count": 34,
   "metadata": {},
   "outputs": [
    {
     "data": {
      "text/html": [
       "<div>\n",
       "<style scoped>\n",
       "    .dataframe tbody tr th:only-of-type {\n",
       "        vertical-align: middle;\n",
       "    }\n",
       "\n",
       "    .dataframe tbody tr th {\n",
       "        vertical-align: top;\n",
       "    }\n",
       "\n",
       "    .dataframe thead th {\n",
       "        text-align: right;\n",
       "    }\n",
       "</style>\n",
       "<table border=\"1\" class=\"dataframe\">\n",
       "  <thead>\n",
       "    <tr style=\"text-align: right;\">\n",
       "      <th></th>\n",
       "      <th>INDEX</th>\n",
       "      <th>X</th>\n",
       "      <th>Y</th>\n",
       "      <th>DISTANCE</th>\n",
       "    </tr>\n",
       "  </thead>\n",
       "  <tbody>\n",
       "    <tr>\n",
       "      <th>count</th>\n",
       "      <td>171.000000</td>\n",
       "      <td>171.000000</td>\n",
       "      <td>171.000000</td>\n",
       "      <td>171.000000</td>\n",
       "    </tr>\n",
       "    <tr>\n",
       "      <th>mean</th>\n",
       "      <td>458.257310</td>\n",
       "      <td>2.417690</td>\n",
       "      <td>25.963646</td>\n",
       "      <td>31.276768</td>\n",
       "    </tr>\n",
       "    <tr>\n",
       "      <th>std</th>\n",
       "      <td>264.076578</td>\n",
       "      <td>16.452276</td>\n",
       "      <td>5.649705</td>\n",
       "      <td>1.600585</td>\n",
       "    </tr>\n",
       "    <tr>\n",
       "      <th>min</th>\n",
       "      <td>67.000000</td>\n",
       "      <td>-24.677397</td>\n",
       "      <td>14.798480</td>\n",
       "      <td>28.061646</td>\n",
       "    </tr>\n",
       "    <tr>\n",
       "      <th>25%</th>\n",
       "      <td>139.500000</td>\n",
       "      <td>-12.044672</td>\n",
       "      <td>21.329076</td>\n",
       "      <td>30.101895</td>\n",
       "    </tr>\n",
       "    <tr>\n",
       "      <th>50%</th>\n",
       "      <td>437.000000</td>\n",
       "      <td>2.292376</td>\n",
       "      <td>27.660323</td>\n",
       "      <td>31.446080</td>\n",
       "    </tr>\n",
       "    <tr>\n",
       "      <th>75%</th>\n",
       "      <td>722.500000</td>\n",
       "      <td>19.890640</td>\n",
       "      <td>30.635445</td>\n",
       "      <td>32.589984</td>\n",
       "    </tr>\n",
       "    <tr>\n",
       "      <th>max</th>\n",
       "      <td>775.000000</td>\n",
       "      <td>24.767551</td>\n",
       "      <td>33.853913</td>\n",
       "      <td>33.915899</td>\n",
       "    </tr>\n",
       "  </tbody>\n",
       "</table>\n",
       "</div>"
      ],
      "text/plain": [
       "            INDEX           X           Y    DISTANCE\n",
       "count  171.000000  171.000000  171.000000  171.000000\n",
       "mean   458.257310    2.417690   25.963646   31.276768\n",
       "std    264.076578   16.452276    5.649705    1.600585\n",
       "min     67.000000  -24.677397   14.798480   28.061646\n",
       "25%    139.500000  -12.044672   21.329076   30.101895\n",
       "50%    437.000000    2.292376   27.660323   31.446080\n",
       "75%    722.500000   19.890640   30.635445   32.589984\n",
       "max    775.000000   24.767551   33.853913   33.915899"
      ]
     },
     "execution_count": 34,
     "metadata": {},
     "output_type": "execute_result"
    }
   ],
   "source": [
    "Arc3df = df[(df[\"DISTANCE\"] >= 28) & (df.Y > 14)]\n",
    "Arc3df.describe()"
   ]
  },
  {
   "cell_type": "code",
   "execution_count": 35,
   "metadata": {},
   "outputs": [
    {
     "data": {
      "text/plain": [
       "SCORE\n",
       "MISSED    113\n",
       "MADE       58\n",
       "Name: count, dtype: int64"
      ]
     },
     "execution_count": 35,
     "metadata": {},
     "output_type": "execute_result"
    }
   ],
   "source": [
    "Arc3df['SCORE'].value_counts()"
   ]
  },
  {
   "cell_type": "code",
   "execution_count": 36,
   "metadata": {},
   "outputs": [
    {
     "name": "stdout",
     "output_type": "stream",
     "text": [
      "49\n",
      "33.33333333333333\n"
     ]
    },
    {
     "data": {
      "text/plain": [
       "40.816326530612244"
      ]
     },
     "execution_count": 36,
     "metadata": {},
     "output_type": "execute_result"
    }
   ],
   "source": [
    "SCArc3 = Arc3df[Arc3df[\"SHOOTER\"] == 'Seth Curry']\n",
    "\n",
    "SCArc3percent = len(SCArc3[SCArc3[\"SCORE\"] == \"MADE\"]) / len(SCArc3[\"SCORE\"]) * 100\n",
    "\n",
    "print(len(SCArc3[\"SCORE\"]))\n",
    "print(len(SCArc3[\"SCORE\"]) / len(df[df.SHOOTER == \"Seth Curry\"]) * 100)\n",
    "SCArc3percent"
   ]
  },
  {
   "cell_type": "code",
   "execution_count": 37,
   "metadata": {},
   "outputs": [
    {
     "name": "stdout",
     "output_type": "stream",
     "text": [
      "32\n",
      "14.814814814814813\n"
     ]
    },
    {
     "data": {
      "text/plain": [
       "46.875"
      ]
     },
     "execution_count": 37,
     "metadata": {},
     "output_type": "execute_result"
    }
   ],
   "source": [
    "CPArc3 = Arc3df[Arc3df[\"SHOOTER\"] == 'Chris Paul']\n",
    "\n",
    "CPArc3percent = len(CPArc3[CPArc3[\"SCORE\"] == \"MADE\"]) / len(CPArc3[\"SCORE\"]) * 100\n",
    "\n",
    "print(len(CPArc3[\"SCORE\"]))\n",
    "print(len(CPArc3[\"SCORE\"]) / len(df[df.SHOOTER == \"Chris Paul\"]) * 100)\n",
    "CPArc3percent"
   ]
  },
  {
   "cell_type": "code",
   "execution_count": 38,
   "metadata": {},
   "outputs": [
    {
     "name": "stdout",
     "output_type": "stream",
     "text": [
      "13\n",
      "15.476190476190476\n"
     ]
    },
    {
     "data": {
      "text/plain": [
       "23.076923076923077"
      ]
     },
     "execution_count": 38,
     "metadata": {},
     "output_type": "execute_result"
    }
   ],
   "source": [
    "RWArc3 = Arc3df[Arc3df[\"SHOOTER\"] == 'Russell Westbrook']\n",
    "\n",
    "RWArc3percent = len(RWArc3[RWArc3[\"SCORE\"] == \"MADE\"]) / len(RWArc3[\"SCORE\"]) * 100\n",
    "\n",
    "print(len(RWArc3[\"SCORE\"]))\n",
    "print(len(RWArc3[\"SCORE\"]) / len(df[df.SHOOTER == \"Russell Westbrook\"]) * 100)\n",
    "RWArc3percent"
   ]
  },
  {
   "cell_type": "code",
   "execution_count": 39,
   "metadata": {},
   "outputs": [
    {
     "name": "stdout",
     "output_type": "stream",
     "text": [
      "77\n",
      "23.404255319148938\n"
     ]
    },
    {
     "data": {
      "text/plain": [
       "25.97402597402597"
      ]
     },
     "execution_count": 39,
     "metadata": {},
     "output_type": "execute_result"
    }
   ],
   "source": [
    "TYArc3 = Arc3df[Arc3df[\"SHOOTER\"] == 'Trae Young']\n",
    "\n",
    "TYArc3percent = len(TYArc3[TYArc3[\"SCORE\"] == \"MADE\"]) / len(TYArc3[\"SCORE\"]) * 100\n",
    "\n",
    "print(len(TYArc3[\"SCORE\"]))\n",
    "print(len(TYArc3[\"SCORE\"]) / len(df[df.SHOOTER == \"Trae Young\"]) * 100)\n",
    "TYArc3percent"
   ]
  },
  {
   "cell_type": "markdown",
   "metadata": {},
   "source": [
    "We can see a continuation of previously established trends with Seth Curry taking a lot of threes from the arc (33% of his total), and shooting well from there: 40.8%. 40% from three is generally considered good.\n",
    "\n",
    "We also see Trae Young takes plenty of threes from the arc, just like his high percentage of corner 3's, but this time his field goal percentage is fairly poor.\n",
    "\n",
    "Russell Westbrook follows the same trend as before: low three point field goal percentage with relatively few attempts. \n",
    "\n",
    "Chris Paul sort of follows the trend, as he attempts relatively few threes (15% of his total shots), but shoots them well, which is likely because of the fact that he only took 32 of them.\n",
    "\n",
    "This confirms that Seth Curry is a 3 point specialist but Trae Young seems more like a volume shooter. His 3 point percentage is somewhat poor but he still takes quite a few. Chris Paul and Westbrook are a bit more difficult to peg. They are likely more close range shooters, though it is important to note Chris Paul's shooting percentage from three here.\n",
    "\n",
    "The next step is to look at close range scoring, or scoring in the paint. Consulting the diagram again, the paint is 19 feet long by 16 feet wide so we will look at Y less than or equal to 19, and the absolute value of X being 8 or less."
   ]
  },
  {
   "cell_type": "code",
   "execution_count": 40,
   "metadata": {},
   "outputs": [
    {
     "data": {
      "text/html": [
       "<div>\n",
       "<style scoped>\n",
       "    .dataframe tbody tr th:only-of-type {\n",
       "        vertical-align: middle;\n",
       "    }\n",
       "\n",
       "    .dataframe tbody tr th {\n",
       "        vertical-align: top;\n",
       "    }\n",
       "\n",
       "    .dataframe thead th {\n",
       "        text-align: right;\n",
       "    }\n",
       "</style>\n",
       "<table border=\"1\" class=\"dataframe\">\n",
       "  <thead>\n",
       "    <tr style=\"text-align: right;\">\n",
       "      <th></th>\n",
       "      <th>INDEX</th>\n",
       "      <th>X</th>\n",
       "      <th>Y</th>\n",
       "      <th>DISTANCE</th>\n",
       "    </tr>\n",
       "  </thead>\n",
       "  <tbody>\n",
       "    <tr>\n",
       "      <th>count</th>\n",
       "      <td>271.000000</td>\n",
       "      <td>271.000000</td>\n",
       "      <td>271.000000</td>\n",
       "      <td>271.000000</td>\n",
       "    </tr>\n",
       "    <tr>\n",
       "      <th>mean</th>\n",
       "      <td>358.147601</td>\n",
       "      <td>0.219244</td>\n",
       "      <td>10.226405</td>\n",
       "      <td>10.955219</td>\n",
       "    </tr>\n",
       "    <tr>\n",
       "      <th>std</th>\n",
       "      <td>185.652304</td>\n",
       "      <td>3.927036</td>\n",
       "      <td>4.290056</td>\n",
       "      <td>4.287167</td>\n",
       "    </tr>\n",
       "    <tr>\n",
       "      <th>min</th>\n",
       "      <td>0.000000</td>\n",
       "      <td>-7.970607</td>\n",
       "      <td>5.008911</td>\n",
       "      <td>5.020788</td>\n",
       "    </tr>\n",
       "    <tr>\n",
       "      <th>25%</th>\n",
       "      <td>191.500000</td>\n",
       "      <td>-2.519773</td>\n",
       "      <td>6.673493</td>\n",
       "      <td>7.090837</td>\n",
       "    </tr>\n",
       "    <tr>\n",
       "      <th>50%</th>\n",
       "      <td>400.000000</td>\n",
       "      <td>0.365771</td>\n",
       "      <td>8.471616</td>\n",
       "      <td>10.200727</td>\n",
       "    </tr>\n",
       "    <tr>\n",
       "      <th>75%</th>\n",
       "      <td>512.000000</td>\n",
       "      <td>2.898745</td>\n",
       "      <td>13.401733</td>\n",
       "      <td>13.609687</td>\n",
       "    </tr>\n",
       "    <tr>\n",
       "      <th>max</th>\n",
       "      <td>621.000000</td>\n",
       "      <td>7.925733</td>\n",
       "      <td>18.965952</td>\n",
       "      <td>18.965960</td>\n",
       "    </tr>\n",
       "  </tbody>\n",
       "</table>\n",
       "</div>"
      ],
      "text/plain": [
       "            INDEX           X           Y    DISTANCE\n",
       "count  271.000000  271.000000  271.000000  271.000000\n",
       "mean   358.147601    0.219244   10.226405   10.955219\n",
       "std    185.652304    3.927036    4.290056    4.287167\n",
       "min      0.000000   -7.970607    5.008911    5.020788\n",
       "25%    191.500000   -2.519773    6.673493    7.090837\n",
       "50%    400.000000    0.365771    8.471616   10.200727\n",
       "75%    512.000000    2.898745   13.401733   13.609687\n",
       "max    621.000000    7.925733   18.965952   18.965960"
      ]
     },
     "execution_count": 40,
     "metadata": {},
     "output_type": "execute_result"
    }
   ],
   "source": [
    "Closedf = df[(abs(df.X) <= 8) & (df.Y <= 19)]\n",
    "Closedf.describe()"
   ]
  },
  {
   "cell_type": "code",
   "execution_count": 41,
   "metadata": {},
   "outputs": [
    {
     "name": "stdout",
     "output_type": "stream",
     "text": [
      "31\n",
      "21.08843537414966\n"
     ]
    },
    {
     "data": {
      "text/plain": [
       "67.74193548387096"
      ]
     },
     "execution_count": 41,
     "metadata": {},
     "output_type": "execute_result"
    }
   ],
   "source": [
    "SCClose = Closedf[Closedf[\"SHOOTER\"] == 'Seth Curry']\n",
    "\n",
    "SCClosepercent = len(SCClose[SCClose[\"SCORE\"] == \"MADE\"]) / len(SCClose[\"SCORE\"]) * 100\n",
    "\n",
    "print(len(SCClose[\"SCORE\"]))\n",
    "print(len(SCClose[\"SCORE\"]) / len(df[df.SHOOTER == \"Seth Curry\"]) * 100)\n",
    "SCClosepercent"
   ]
  },
  {
   "cell_type": "code",
   "execution_count": 42,
   "metadata": {},
   "outputs": [
    {
     "name": "stdout",
     "output_type": "stream",
     "text": [
      "68\n",
      "31.48148148148148\n"
     ]
    },
    {
     "data": {
      "text/plain": [
       "60.29411764705882"
      ]
     },
     "execution_count": 42,
     "metadata": {},
     "output_type": "execute_result"
    }
   ],
   "source": [
    "CPClose = Closedf[Closedf[\"SHOOTER\"] == 'Chris Paul']\n",
    "\n",
    "CPClosepercent = len(CPClose[CPClose[\"SCORE\"] == \"MADE\"]) / len(CPClose[\"SCORE\"]) * 100\n",
    "\n",
    "print(len(CPClose[\"SCORE\"]))\n",
    "print(len(CPClose[\"SCORE\"]) / len(df[df.SHOOTER == \"Chris Paul\"]) * 100)\n",
    "CPClosepercent"
   ]
  },
  {
   "cell_type": "code",
   "execution_count": 43,
   "metadata": {},
   "outputs": [
    {
     "name": "stdout",
     "output_type": "stream",
     "text": [
      "39\n",
      "46.42857142857143\n"
     ]
    },
    {
     "data": {
      "text/plain": [
       "35.8974358974359"
      ]
     },
     "execution_count": 43,
     "metadata": {},
     "output_type": "execute_result"
    }
   ],
   "source": [
    "RWClose = Closedf[Closedf[\"SHOOTER\"] == 'Russell Westbrook']\n",
    "\n",
    "RWClosepercent = len(RWClose[RWClose[\"SCORE\"] == \"MADE\"]) / len(RWClose[\"SCORE\"]) * 100\n",
    "\n",
    "print(len(RWClose[\"SCORE\"]))\n",
    "print(len(RWClose[\"SCORE\"]) / len(df[df.SHOOTER == \"Russell Westbrook\"]) * 100)\n",
    "RWClosepercent"
   ]
  },
  {
   "cell_type": "code",
   "execution_count": 44,
   "metadata": {},
   "outputs": [
    {
     "name": "stdout",
     "output_type": "stream",
     "text": [
      "133\n",
      "40.42553191489361\n"
     ]
    },
    {
     "data": {
      "text/plain": [
       "52.63157894736842"
      ]
     },
     "execution_count": 44,
     "metadata": {},
     "output_type": "execute_result"
    }
   ],
   "source": [
    "TYClose = Closedf[Closedf[\"SHOOTER\"] == 'Trae Young']\n",
    "\n",
    "TYClosepercent = len(TYClose[TYClose[\"SCORE\"] == \"MADE\"]) / len(TYClose[\"SCORE\"]) * 100\n",
    "\n",
    "print(len(TYClose[\"SCORE\"]))\n",
    "print(len(TYClose[\"SCORE\"]) / len(df[df.SHOOTER == \"Trae Young\"]) * 100)\n",
    "TYClosepercent"
   ]
  },
  {
   "cell_type": "markdown",
   "metadata": {},
   "source": [
    "We can see that Seth Curry has the lowest proportion of shots at close range, with Russell Westbrook and Trae Young having a high porportion of close range shots. This makes sense for Curry and Westbrook since it was established that Curry seemed to specialize in three pointers, and Westbrook avoided them. Chris Paul falls between these two groups. \n",
    "\n",
    "Based on the field goal percentage, we can see that although Chris Paul and Seth Curry take fewer shots than Young and Wetbrook they make them at a higher rate, likely because they choose their shots more caerfully (as a side note, it seems like Paul chooses his shots carefully overall from the percentages seen).\n",
    "\n",
    "Westbrook goes for close range shots a lot, but has a poor shooting percentage for them. Everyone else actually has at least a decent percentage for them if not a good percentage.\n",
    "\n",
    "This helps form opinions on Westbrook and Paul, while confirming what I said about Young. Trae Young is definitely a volume shooter, who takes many shots, from a variety of places but whose field goal percentage would suffer. On the other hand, Chris Paul is more conservative with his shots and seems to take better shots than Westbrook and Young (I make this assumption because he shoots less and is more accurate). Chris Paul also likes to take shots from all across the field, but this will be confirmed by the final analysis: the mid-range.\n",
    "\n",
    "The mid-range is between the 3 point regions and close range, which is a complex boundary. The easiest way, and the reason I wanted to do this last, is to simply subtract all of the other ranges."
   ]
  },
  {
   "cell_type": "code",
   "execution_count": 45,
   "metadata": {},
   "outputs": [],
   "source": [
    "IndicesToRemove = list(Corner3df.index) + list(Arc3df.index) + list(Closedf.index)\n",
    "Midrangedf = df.drop(IndicesToRemove)"
   ]
  },
  {
   "cell_type": "code",
   "execution_count": 46,
   "metadata": {},
   "outputs": [
    {
     "name": "stdout",
     "output_type": "stream",
     "text": [
      "776\n",
      "776\n"
     ]
    }
   ],
   "source": [
    "print(len(df))\n",
    "print(len(Corner3df) + len(Arc3df) + len(Closedf) + len(Midrangedf))"
   ]
  },
  {
   "cell_type": "code",
   "execution_count": 47,
   "metadata": {},
   "outputs": [
    {
     "data": {
      "text/html": [
       "<div>\n",
       "<style scoped>\n",
       "    .dataframe tbody tr th:only-of-type {\n",
       "        vertical-align: middle;\n",
       "    }\n",
       "\n",
       "    .dataframe tbody tr th {\n",
       "        vertical-align: top;\n",
       "    }\n",
       "\n",
       "    .dataframe thead th {\n",
       "        text-align: right;\n",
       "    }\n",
       "</style>\n",
       "<table border=\"1\" class=\"dataframe\">\n",
       "  <thead>\n",
       "    <tr style=\"text-align: right;\">\n",
       "      <th></th>\n",
       "      <th>INDEX</th>\n",
       "      <th>X</th>\n",
       "      <th>Y</th>\n",
       "      <th>DISTANCE</th>\n",
       "    </tr>\n",
       "  </thead>\n",
       "  <tbody>\n",
       "    <tr>\n",
       "      <th>count</th>\n",
       "      <td>280.000000</td>\n",
       "      <td>280.000000</td>\n",
       "      <td>280.000000</td>\n",
       "      <td>280.000000</td>\n",
       "    </tr>\n",
       "    <tr>\n",
       "      <th>mean</th>\n",
       "      <td>353.628571</td>\n",
       "      <td>0.546194</td>\n",
       "      <td>15.017884</td>\n",
       "      <td>20.389792</td>\n",
       "    </tr>\n",
       "    <tr>\n",
       "      <th>std</th>\n",
       "      <td>210.659141</td>\n",
       "      <td>13.098138</td>\n",
       "      <td>6.295466</td>\n",
       "      <td>4.539274</td>\n",
       "    </tr>\n",
       "    <tr>\n",
       "      <th>min</th>\n",
       "      <td>28.000000</td>\n",
       "      <td>-21.739994</td>\n",
       "      <td>5.026200</td>\n",
       "      <td>9.640798</td>\n",
       "    </tr>\n",
       "    <tr>\n",
       "      <th>25%</th>\n",
       "      <td>213.750000</td>\n",
       "      <td>-11.978224</td>\n",
       "      <td>9.441805</td>\n",
       "      <td>16.714738</td>\n",
       "    </tr>\n",
       "    <tr>\n",
       "      <th>50%</th>\n",
       "      <td>300.500000</td>\n",
       "      <td>0.633890</td>\n",
       "      <td>14.267021</td>\n",
       "      <td>21.047164</td>\n",
       "    </tr>\n",
       "    <tr>\n",
       "      <th>75%</th>\n",
       "      <td>588.500000</td>\n",
       "      <td>12.251378</td>\n",
       "      <td>20.901120</td>\n",
       "      <td>23.496335</td>\n",
       "    </tr>\n",
       "    <tr>\n",
       "      <th>max</th>\n",
       "      <td>694.000000</td>\n",
       "      <td>23.952742</td>\n",
       "      <td>27.879461</td>\n",
       "      <td>27.906710</td>\n",
       "    </tr>\n",
       "  </tbody>\n",
       "</table>\n",
       "</div>"
      ],
      "text/plain": [
       "            INDEX           X           Y    DISTANCE\n",
       "count  280.000000  280.000000  280.000000  280.000000\n",
       "mean   353.628571    0.546194   15.017884   20.389792\n",
       "std    210.659141   13.098138    6.295466    4.539274\n",
       "min     28.000000  -21.739994    5.026200    9.640798\n",
       "25%    213.750000  -11.978224    9.441805   16.714738\n",
       "50%    300.500000    0.633890   14.267021   21.047164\n",
       "75%    588.500000   12.251378   20.901120   23.496335\n",
       "max    694.000000   23.952742   27.879461   27.906710"
      ]
     },
     "execution_count": 47,
     "metadata": {},
     "output_type": "execute_result"
    }
   ],
   "source": [
    "Midrangedf.describe()"
   ]
  },
  {
   "cell_type": "code",
   "execution_count": 48,
   "metadata": {},
   "outputs": [
    {
     "name": "stdout",
     "output_type": "stream",
     "text": [
      "54\n",
      "36.734693877551024\n"
     ]
    },
    {
     "data": {
      "text/plain": [
       "62.96296296296296"
      ]
     },
     "execution_count": 48,
     "metadata": {},
     "output_type": "execute_result"
    }
   ],
   "source": [
    "SCMidrange = Midrangedf[Midrangedf[\"SHOOTER\"] == 'Seth Curry']\n",
    "\n",
    "SCMidrangepercent = len(SCMidrange[SCMidrange[\"SCORE\"] == \"MADE\"]) / len(SCMidrange[\"SCORE\"]) * 100\n",
    "\n",
    "print(len(SCMidrange[\"SCORE\"]))\n",
    "print(len(SCMidrange[\"SCORE\"]) / len(df[df.SHOOTER == \"Seth Curry\"]) * 100)\n",
    "SCMidrangepercent"
   ]
  },
  {
   "cell_type": "code",
   "execution_count": 49,
   "metadata": {},
   "outputs": [
    {
     "name": "stdout",
     "output_type": "stream",
     "text": [
      "108\n",
      "50.0\n"
     ]
    },
    {
     "data": {
      "text/plain": [
       "43.51851851851852"
      ]
     },
     "execution_count": 49,
     "metadata": {},
     "output_type": "execute_result"
    }
   ],
   "source": [
    "CPMidrange = Midrangedf[Midrangedf[\"SHOOTER\"] == 'Chris Paul']\n",
    "\n",
    "CPMidrangepercent = len(CPMidrange[CPMidrange[\"SCORE\"] == \"MADE\"]) / len(CPMidrange[\"SCORE\"]) * 100\n",
    "\n",
    "print(len(CPMidrange[\"SCORE\"]))\n",
    "print(len(CPMidrange[\"SCORE\"]) / len(df[df.SHOOTER == \"Chris Paul\"]) * 100)\n",
    "CPMidrangepercent"
   ]
  },
  {
   "cell_type": "code",
   "execution_count": 50,
   "metadata": {},
   "outputs": [
    {
     "name": "stdout",
     "output_type": "stream",
     "text": [
      "28\n",
      "33.33333333333333\n"
     ]
    },
    {
     "data": {
      "text/plain": [
       "35.714285714285715"
      ]
     },
     "execution_count": 50,
     "metadata": {},
     "output_type": "execute_result"
    }
   ],
   "source": [
    "RWMidrange = Midrangedf[Midrangedf[\"SHOOTER\"] == 'Russell Westbrook']\n",
    "\n",
    "RWMidrangepercent = len(RWMidrange[RWMidrange[\"SCORE\"] == \"MADE\"]) / len(RWMidrange[\"SCORE\"]) * 100\n",
    "\n",
    "print(len(RWMidrange[\"SCORE\"]))\n",
    "print(len(RWMidrange[\"SCORE\"]) / len(df[df.SHOOTER == \"Russell Westbrook\"]) * 100)\n",
    "RWMidrangepercent"
   ]
  },
  {
   "cell_type": "code",
   "execution_count": 51,
   "metadata": {},
   "outputs": [
    {
     "name": "stdout",
     "output_type": "stream",
     "text": [
      "90\n",
      "27.35562310030395\n"
     ]
    },
    {
     "data": {
      "text/plain": [
       "43.333333333333336"
      ]
     },
     "execution_count": 51,
     "metadata": {},
     "output_type": "execute_result"
    }
   ],
   "source": [
    "TYMidrange = Midrangedf[Midrangedf[\"SHOOTER\"] == 'Trae Young']\n",
    "\n",
    "TYMidrangepercent = len(TYMidrange[TYMidrange[\"SCORE\"] == \"MADE\"]) / len(TYMidrange[\"SCORE\"]) * 100\n",
    "\n",
    "print(len(TYMidrange[\"SCORE\"]))\n",
    "print(len(TYMidrange[\"SCORE\"]) / len(df[df.SHOOTER == \"Trae Young\"]) * 100)\n",
    "TYMidrangepercent"
   ]
  },
  {
   "cell_type": "markdown",
   "metadata": {},
   "source": [
    "After two sanity checks: checking the stats to see if the X and Y values make sense for midrange, and making sure the number of rows of the subsets equals the dataframe as a whole, it seems that the shortcut worked.\n",
    "\n",
    "Everybody but Westbrook shoots midrange shots well. They form a decent portion of each player's shot attempts, though they form a massive part of Chris Paul's shot attempts, and a relatively small amount of Trae Young's shots.\n",
    "\n",
    "The midrange seems to be Chris Paul's favorite shot type, and both Curry and Westbrook's second favorite shot. Trae Young seems to prefer 3 point shots and close range shots, although he seems to spread his shot attempts fairly evenly across close, mid and long range. Trae Young seems to prefer close and long range shots to them.\n",
    "\n",
    "With all of this in mind, we can finalize what type of basketball player each person is. \n",
    "\n",
    "* **Seth Curry**: 3 point specialist who prefers to take long range shots with high efficiency.\n",
    "* **Chris Paul**: A mid-range shooter who picks his shots carefully and likely doesn't take many shots a game, relative to someone like Trae Young for example.\n",
    "* **Russell Westbrook**: A volume shooter who prefers close range shots.\n",
    "* **Trae Young**: A volume shooter who has no significant preference for his shots, though the most used shot is close range.\n",
    "\n",
    "Before moving on to analyze defense a bit, I'll graph some of the data found."
   ]
  },
  {
   "cell_type": "code",
   "execution_count": 94,
   "metadata": {},
   "outputs": [],
   "source": [
    "SCPercents = [ SCClosepercent, SCMidrangepercent, SCCorner3percent, SCArc3percent]\n",
    "CPPercents = [ CPClosepercent, CPMidrangepercent, CPCorner3percent, CPArc3percent]\n",
    "RWPercents =  [RWClosepercent, RWMidrangepercent,RWCorner3percent, RWArc3percent]\n",
    "TYPercents = [ TYClosepercent, TYMidrangepercent, TYCorner3percent, TYArc3percent]\n",
    "\n",
    "SCAttempts = [len(SCClose[\"SCORE\"]),len(SCMidrange[\"SCORE\"]), len(SCCorner3[\"SCORE\"]),len(SCArc3[\"SCORE\"])]\n",
    "CPAttempts = [len(CPClose[\"SCORE\"]),len(CPMidrange[\"SCORE\"]),len(CPCorner3[\"SCORE\"]),len(CPArc3[\"SCORE\"])]\n",
    "RWAttempts = [len(RWClose[\"SCORE\"]),len(RWMidrange[\"SCORE\"]),len(RWCorner3[\"SCORE\"]),len(RWArc3[\"SCORE\"])]\n",
    "TYAttempts = [len(TYClose[\"SCORE\"]),len(TYMidrange[\"SCORE\"]),len(TYCorner3[\"SCORE\"]),len(TYArc3[\"SCORE\"])]\n",
    "\n",
    "XAxisLabels = [\"Close\", \"Midrange\", \"Corner 3\", \"Arc 3\"]"
   ]
  },
  {
   "cell_type": "code",
   "execution_count": 95,
   "metadata": {},
   "outputs": [
    {
     "data": {
      "text/plain": [
       "<matplotlib.legend.Legend at 0x1d827fdf410>"
      ]
     },
     "execution_count": 95,
     "metadata": {},
     "output_type": "execute_result"
    },
    {
     "data": {
      "image/png": "[encoded data removed]",
      "text/plain": [
       "<Figure size 1000x1000 with 2 Axes>"
      ]
     },
     "metadata": {},
     "output_type": "display_data"
    }
   ],
   "source": [
    "fig, (ax1,ax2) = plt.subplots(nrows = 2, ncols=1)\n",
    "multiplebars = np.arange(4)\n",
    "fig.set_figwidth(10)\n",
    "fig.set_figheight(10)\n",
    "ax1.set_xticks(multiplebars + 1.5 * width, XAxisLabels)\n",
    "ax1.bar(multiplebars, SCPercents, width, color='b', label='Seth Curry')\n",
    "ax1.bar(multiplebars + width, CPPercents, width, color='orange', label='Chris Paul')\n",
    "ax1.bar(multiplebars + 2 * width, RWPercents, width, color='g', label='Russell Westbrook')\n",
    "ax1.bar(multiplebars + 3 * width, TYPercents, width, color='r', label='Trae Young')\n",
    "ax1.set_title(\"Field Goal Percentage by Shot Type\")\n",
    "ax1.legend()\n",
    "\n",
    "ax2.set_xticks(multiplebars + 1.5 * width, XAxisLabels)\n",
    "ax2.bar(multiplebars, SCAttempts, width, color='b', label='Seth Curry')\n",
    "ax2.bar(multiplebars + width, CPAttempts, width, color='orange', label='Chris Paul')\n",
    "ax2.bar(multiplebars + 2 * width, RWAttempts, width, color='g', label='Russell Westbrook')\n",
    "ax2.bar(multiplebars + 3 * width, TYAttempts, width, color='r', label='Trae Young')\n",
    "ax2.set_title(\"Attempts by Shot Type\")\n",
    "ax2.legend()\n"
   ]
  },
  {
   "cell_type": "code",
   "execution_count": 100,
   "metadata": {},
   "outputs": [
    {
     "data": {
      "text/plain": [
       "<Axes: >"
      ]
     },
     "execution_count": 100,
     "metadata": {},
     "output_type": "execute_result"
    },
    {
     "data": {
      "image/png": "[encoded data removed]",
      "text/plain": [
       "<Figure size 640x480 with 1 Axes>"
      ]
     },
     "metadata": {},
     "output_type": "display_data"
    }
   ],
   "source": [
    "df[\"DEFENDER\"].hist()"
   ]
  },
  {
   "cell_type": "code",
   "execution_count": 98,
   "metadata": {},
   "outputs": [],
   "source": [
    "SCDefenderdf= df[df[\"DEFENDER\"] == \"Seth Curry\"]\n",
    "CPDefenderdf= df[df[\"DEFENDER\"] == \"Chris Paul\"]\n",
    "RWDefenderdf= df[df[\"DEFENDER\"] == \"Russell Westbrook\"]\n",
    "TYDefenderdf= df[df[\"DEFENDER\"] == \"Trae Young\"]"
   ]
  },
  {
   "cell_type": "code",
   "execution_count": null,
   "metadata": {},
   "outputs": [],
   "source": []
  }
 ],
 "metadata": {
  "kernelspec": {
   "display_name": "Python 3",
   "language": "python",
   "name": "python3"
  },
  "language_info": {
   "codemirror_mode": {
    "name": "ipython",
    "version": 3
   },
   "file_extension": ".py",
   "mimetype": "text/x-python",
   "name": "python",
   "nbconvert_exporter": "python",
   "pygments_lexer": "ipython3",
   "version": "3.12.1"
  }
 },
 "nbformat": 4,
 "nbformat_minor": 2
}
